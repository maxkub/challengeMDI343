{
 "cells": [
  {
   "cell_type": "code",
   "execution_count": 1,
   "metadata": {
    "collapsed": false
   },
   "outputs": [
    {
     "name": "stderr",
     "output_type": "stream",
     "text": [
      "/home/maxime/local/anaconda3/lib/python3.4/site-packages/matplotlib/__init__.py:872: UserWarning: axes.color_cycle is deprecated and replaced with axes.prop_cycle; please use the latter.\n",
      "  warnings.warn(self.msg_depr % (key, alt_key))\n"
     ]
    }
   ],
   "source": [
    "import pandas as pd\n",
    "import matplotlib.pyplot as plt\n",
    "from mpl_toolkits.mplot3d import Axes3D\n",
    "from sklearn.grid_search import GridSearchCV\n",
    "from sklearn.metrics import roc_auc_score, roc_curve\n",
    "from sklearn.preprocessing import StandardScaler, Imputer, OneHotEncoder, LabelEncoder\n",
    "from sklearn.cross_validation import train_test_split\n",
    "from sklearn.neighbors import KNeighborsClassifier\n",
    "from sklearn.utils import resample\n",
    "from sklearn.ensemble import RandomForestClassifier\n",
    "from sklearn.feature_selection import RFECV\n",
    "from sklearn.svm import SVC\n",
    "import numpy as np\n",
    "import seaborn as sns\n",
    "import operator\n",
    "import math\n",
    "import tensorflow as tf\n",
    "from data_science import *\n",
    "import xgboost as xgb\n",
    "\n",
    "%matplotlib inline"
   ]
  },
  {
   "cell_type": "code",
   "execution_count": 2,
   "metadata": {
    "collapsed": false
   },
   "outputs": [
    {
     "name": "stdout",
     "output_type": "stream",
     "text": [
      "Index(['COUNTRY', 'FIRST_CLASSE', 'FISRT_APP_COUNTRY', 'FISRT_APP_TYPE',\n",
      "       'FISRT_INV_COUNTRY', 'FISRT_INV_TYPE', 'LANGUAGE_OF_FILLING',\n",
      "       'MAIN_IPC', 'SOURCE_BEGIN_MONTH', 'SOURCE_CITED_AGE', 'SOURCE_IDX_ORI',\n",
      "       'SOURCE_IDX_RAD', 'TECHNOLOGIE_FIELD', 'TECHNOLOGIE_SECTOR',\n",
      "       'VARIABLE_CIBLE', 'VOIE_DEPOT'],\n",
      "      dtype='object')\n",
      "Index(['COUNTRY', 'FIRST_CLASSE', 'FISRT_APP_COUNTRY', 'FISRT_APP_TYPE',\n",
      "       'FISRT_INV_COUNTRY', 'FISRT_INV_TYPE', 'LANGUAGE_OF_FILLING',\n",
      "       'MAIN_IPC', 'SOURCE_BEGIN_MONTH', 'SOURCE_CITED_AGE', 'SOURCE_IDX_ORI',\n",
      "       'SOURCE_IDX_RAD', 'TECHNOLOGIE_FIELD', 'TECHNOLOGIE_SECTOR',\n",
      "       'VARIABLE_CIBLE', 'VOIE_DEPOT'],\n",
      "      dtype='object')\n"
     ]
    },
    {
     "name": "stderr",
     "output_type": "stream",
     "text": [
      "/home/maxime/local/anaconda3/lib/python3.4/site-packages/pandas/core/frame.py:2265: SettingWithCopyWarning: \n",
      "A value is trying to be set on a copy of a slice from a DataFrame.\n",
      "Try using .loc[row_indexer,col_indexer] = value instead\n",
      "\n",
      "See the caveats in the documentation: http://pandas.pydata.org/pandas-docs/stable/indexing.html#indexing-view-versus-copy\n",
      "  self[k1] = value[k2]\n"
     ]
    }
   ],
   "source": [
    "df_all = import_data('data/train.csv', 'data/test.csv', 'VARIABLE_CIBLE', na_values='(MISSING)')\n",
    "\n",
    "df_all0 = df_all[df_all.SOURCE_CITED_AGE == 'IMPUT']\n",
    "df_all1 = df_all[df_all.SOURCE_CITED_AGE == 'CALC']\n",
    "\n",
    "date_columns = ['PRIORITY_MONTH', 'FILING_MONTH', 'PUBLICATION_MONTH', 'BEGIN_MONTH']\n",
    "\n",
    "preproc = Preprocessings(date_columns=date_columns)\n",
    "\n",
    "df0 = preproc.datetime_processings(df_all0, format='%m/%Y')\n",
    "df0 = preproc.cat_to_codes(df0)\n",
    "df0 = df0.fillna(df0.median())\n",
    "df0 = df0.dropna(axis=1, how='all')\n",
    "\n",
    "\n",
    "preproc = Preprocessings(date_columns=date_columns)\n",
    "\n",
    "df1 = preproc.datetime_processings(df_all1, format='%m/%Y')\n",
    "df1 = preproc.cat_to_codes(df1)\n",
    "df1 = df1.fillna(df1.median())\n",
    "df1 = df1.dropna(axis=1, how='all')\n",
    "\n",
    "df0_train, df0_eval = re_split(df0, 'VARIABLE_CIBLE')\n",
    "df1_train, df1_eval = re_split(df1, 'VARIABLE_CIBLE')\n",
    "\n",
    "\n"
   ]
  },
  {
   "cell_type": "markdown",
   "metadata": {},
   "source": [
    "# features selection on df0"
   ]
  },
  {
   "cell_type": "code",
   "execution_count": null,
   "metadata": {
    "collapsed": true
   },
   "outputs": [],
   "source": [
    "features = df0.columns.tolist()\n",
    "features.remove('VARIABLE_CIBLE')\n",
    "features.remove('index_origin')\n",
    "\n",
    "# features selection\n",
    "estimator = RandomForestClassifier(n_estimators=300, n_jobs=6, class_weight='balanced')\n",
    "selector = RFECV(estimator, step=1, cv=3, scoring='roc_auc', verbose=3)\n",
    "\n",
    "selector.fit(df0_train[features].values, df0_train['VARIABLE_CIBLE'].values)\n",
    "cols = [features[i] for i in range(len(features)) if selector.support_[i]]\n",
    "\n",
    "cols.append('VARIABLE_CIBLE')\n",
    "print(df0.shape)\n",
    "df0 = df0[cols]\n",
    "print(df0.shape)\n",
    "print( df0.head())"
   ]
  },
  {
   "cell_type": "code",
   "execution_count": 3,
   "metadata": {
    "collapsed": false
   },
   "outputs": [
    {
     "name": "stdout",
     "output_type": "stream",
     "text": [
      "['APP_NB', 'APP_NB_PAYS', 'APP_NB_TYPE', 'COUNTRY', 'FIRST_CLASSE', 'FISRT_APP_COUNTRY', 'FISRT_APP_TYPE', 'FISRT_INV_COUNTRY', 'FISRT_INV_TYPE', 'INV_NB', 'INV_NB_PAYS', 'INV_NB_TYPE', 'LANGUAGE_OF_FILLING', 'MAIN_IPC', 'NB_BACKWARD', 'NB_BACKWARD_AUTRE', 'NB_BACKWARD_NPL', 'NB_BACKWARD_PL', 'NB_BACKWARD_XY', 'NB_CLASSES', 'NB_FIELDS', 'NB_ROOT_CLASSES', 'NB_SECTORS', 'TECHNOLOGIE_FIELD', 'TECHNOLOGIE_SECTOR', 'VOIE_DEPOT', 'oecd_NB_BACKWARD_NPL', 'oecd_NB_BACKWARD_PL', 'oecd_NB_ROOT_CLASSES', 'pct_NB_IPC', 'pct_NB_IPC_LY', 'filing-begin', 'pub-filing', 'pub_year', 'VARIABLE_CIBLE']\n"
     ]
    }
   ],
   "source": [
    "print(cols)"
   ]
  },
  {
   "cell_type": "code",
   "execution_count": 17,
   "metadata": {
    "collapsed": true
   },
   "outputs": [],
   "source": [
    "# columns selected for df0_train after RFECV\n",
    "columns0 = ['APP_NB', 'APP_NB_PAYS', 'APP_NB_TYPE', 'COUNTRY', 'FIRST_CLASSE', 'FISRT_APP_COUNTRY', \n",
    "           'FISRT_APP_TYPE', 'FISRT_INV_COUNTRY', 'FISRT_INV_TYPE', 'INV_NB', 'INV_NB_PAYS', \n",
    "           'INV_NB_TYPE', 'LANGUAGE_OF_FILLING', 'MAIN_IPC', 'NB_BACKWARD', 'NB_BACKWARD_AUTRE', \n",
    "           'NB_BACKWARD_NPL', 'NB_BACKWARD_PL', 'NB_BACKWARD_XY', 'NB_CLASSES', 'NB_FIELDS', \n",
    "           'NB_ROOT_CLASSES', 'NB_SECTORS', 'TECHNOLOGIE_FIELD', 'TECHNOLOGIE_SECTOR', 'VOIE_DEPOT', \n",
    "           'oecd_NB_BACKWARD_NPL', 'oecd_NB_BACKWARD_PL', 'oecd_NB_ROOT_CLASSES', 'pct_NB_IPC', 'pct_NB_IPC_LY',\n",
    "           'filing-begin', 'pub-filing', 'pub_year', 'VARIABLE_CIBLE']"
   ]
  },
  {
   "cell_type": "code",
   "execution_count": 5,
   "metadata": {
    "collapsed": false
   },
   "outputs": [
    {
     "data": {
      "text/plain": [
       "[<matplotlib.lines.Line2D at 0x7fb7973a91d0>]"
      ]
     },
     "execution_count": 5,
     "metadata": {},
     "output_type": "execute_result"
    },
    {
     "data": {
      "image/png": "[encoded data removed]",
      "text/plain": [
       "<matplotlib.figure.Figure at 0x7fb798075780>"
      ]
     },
     "metadata": {},
     "output_type": "display_data"
    }
   ],
   "source": [
    "plt.figure(figsize=(13,9))\n",
    "plt.plot(range(len(selector.grid_scores_)), selector.grid_scores_)"
   ]
  },
  {
   "cell_type": "code",
   "execution_count": 4,
   "metadata": {
    "collapsed": false
   },
   "outputs": [
    {
     "data": {
      "text/plain": [
       "RandomForestClassifier(bootstrap=True, class_weight='balanced',\n",
       "            criterion='gini', max_depth=None, max_features='auto',\n",
       "            max_leaf_nodes=None, min_samples_leaf=1, min_samples_split=1,\n",
       "            min_weight_fraction_leaf=0.0, n_estimators=1300, n_jobs=6,\n",
       "            oob_score=False, random_state=None, verbose=0,\n",
       "            warm_start=False)"
      ]
     },
     "execution_count": 4,
     "metadata": {},
     "output_type": "execute_result"
    }
   ],
   "source": [
    "# columns selected for df0_train after RFECV\n",
    "columns0 = ['APP_NB', 'APP_NB_PAYS', 'APP_NB_TYPE', 'COUNTRY', 'FIRST_CLASSE', 'FISRT_APP_COUNTRY', \n",
    "           'FISRT_APP_TYPE', 'FISRT_INV_COUNTRY', 'FISRT_INV_TYPE', 'INV_NB', 'INV_NB_PAYS', \n",
    "           'INV_NB_TYPE', 'LANGUAGE_OF_FILLING', 'MAIN_IPC', 'NB_BACKWARD', 'NB_BACKWARD_AUTRE', \n",
    "           'NB_BACKWARD_NPL', 'NB_BACKWARD_PL', 'NB_BACKWARD_XY', 'NB_CLASSES', 'NB_FIELDS', \n",
    "           'NB_ROOT_CLASSES', 'NB_SECTORS', 'TECHNOLOGIE_FIELD', 'TECHNOLOGIE_SECTOR', 'VOIE_DEPOT', \n",
    "           'oecd_NB_BACKWARD_NPL', 'oecd_NB_BACKWARD_PL', 'oecd_NB_ROOT_CLASSES', 'pct_NB_IPC', 'pct_NB_IPC_LY',\n",
    "           'filing-begin', 'pub-filing', 'pub_year', 'VARIABLE_CIBLE']\n",
    "\n",
    "\n",
    "\n",
    "df0_train = df0_train[columns0]\n",
    "\n",
    "df_train0, df_test0 = train_test_split(df0_train, test_size=0.2, random_state=42)\n",
    "\n",
    "columns0.remove('VARIABLE_CIBLE')\n",
    "clf0 = RandomForestClassifier(n_estimators=1300, class_weight='balanced', \n",
    "                             min_samples_split=1, max_depth=None, n_jobs=6)\n",
    "\n",
    "clf0.fit(df_train0[columns0].values, df_train0.VARIABLE_CIBLE.values)"
   ]
  },
  {
   "cell_type": "code",
   "execution_count": 5,
   "metadata": {
    "collapsed": false
   },
   "outputs": [
    {
     "name": "stdout",
     "output_type": "stream",
     "text": [
      "score 0.696519799069\n"
     ]
    }
   ],
   "source": [
    "Y_proba0 = clf0.predict_proba(df_test0[columns0].values)\n",
    "roc_auc = roc_auc_score(df_test0.VARIABLE_CIBLE.values, Y_proba0[:,1])\n",
    "\n",
    "print('score', roc_auc)"
   ]
  },
  {
   "cell_type": "markdown",
   "metadata": {},
   "source": [
    "# features selection on df1"
   ]
  },
  {
   "cell_type": "code",
   "execution_count": 3,
   "metadata": {
    "collapsed": false
   },
   "outputs": [
    {
     "name": "stdout",
     "output_type": "stream",
     "text": [
      "Fitting estimator with 47 features.\n",
      "Fitting estimator with 46 features.\n",
      "Fitting estimator with 45 features.\n",
      "Fitting estimator with 44 features.\n",
      "Fitting estimator with 43 features.\n",
      "Fitting estimator with 42 features.\n",
      "Fitting estimator with 41 features.\n",
      "Fitting estimator with 40 features.\n",
      "Fitting estimator with 39 features.\n",
      "Fitting estimator with 38 features.\n",
      "Fitting estimator with 37 features.\n",
      "Fitting estimator with 36 features.\n",
      "Fitting estimator with 35 features.\n",
      "Fitting estimator with 34 features.\n",
      "Fitting estimator with 33 features.\n",
      "Fitting estimator with 32 features.\n",
      "Fitting estimator with 31 features.\n",
      "Fitting estimator with 30 features.\n",
      "Fitting estimator with 29 features.\n",
      "Fitting estimator with 28 features.\n",
      "Fitting estimator with 27 features.\n",
      "Fitting estimator with 26 features.\n",
      "Fitting estimator with 25 features.\n",
      "Fitting estimator with 24 features.\n",
      "Fitting estimator with 23 features.\n",
      "Fitting estimator with 22 features.\n",
      "Fitting estimator with 21 features.\n",
      "Fitting estimator with 20 features.\n",
      "Fitting estimator with 19 features.\n",
      "Fitting estimator with 18 features.\n",
      "Fitting estimator with 17 features.\n",
      "Fitting estimator with 16 features.\n",
      "Fitting estimator with 15 features.\n",
      "Fitting estimator with 14 features.\n",
      "Fitting estimator with 13 features.\n",
      "Fitting estimator with 12 features.\n",
      "Fitting estimator with 11 features.\n",
      "Fitting estimator with 10 features.\n",
      "Fitting estimator with 9 features.\n",
      "Fitting estimator with 8 features.\n",
      "Fitting estimator with 7 features.\n",
      "Fitting estimator with 6 features.\n",
      "Fitting estimator with 5 features.\n",
      "Fitting estimator with 4 features.\n",
      "Fitting estimator with 3 features.\n",
      "Fitting estimator with 2 features.\n",
      "Fitting estimator with 47 features.\n",
      "Fitting estimator with 46 features.\n",
      "Fitting estimator with 45 features.\n",
      "Fitting estimator with 44 features.\n",
      "Fitting estimator with 43 features.\n",
      "Fitting estimator with 42 features.\n",
      "Fitting estimator with 41 features.\n",
      "Fitting estimator with 40 features.\n",
      "Fitting estimator with 39 features.\n",
      "Fitting estimator with 38 features.\n",
      "Fitting estimator with 37 features.\n",
      "Fitting estimator with 36 features.\n",
      "Fitting estimator with 35 features.\n",
      "Fitting estimator with 34 features.\n",
      "Fitting estimator with 33 features.\n",
      "Fitting estimator with 32 features.\n",
      "Fitting estimator with 31 features.\n",
      "Fitting estimator with 30 features.\n",
      "Fitting estimator with 29 features.\n",
      "Fitting estimator with 28 features.\n",
      "Fitting estimator with 27 features.\n",
      "Fitting estimator with 26 features.\n",
      "Fitting estimator with 25 features.\n",
      "Fitting estimator with 24 features.\n",
      "Fitting estimator with 23 features.\n",
      "Fitting estimator with 22 features.\n",
      "Fitting estimator with 21 features.\n",
      "Fitting estimator with 20 features.\n",
      "Fitting estimator with 19 features.\n",
      "Fitting estimator with 18 features.\n",
      "Fitting estimator with 17 features.\n",
      "Fitting estimator with 16 features.\n",
      "Fitting estimator with 15 features.\n",
      "Fitting estimator with 14 features.\n",
      "Fitting estimator with 13 features.\n",
      "Fitting estimator with 12 features.\n",
      "Fitting estimator with 11 features.\n",
      "Fitting estimator with 10 features.\n",
      "Fitting estimator with 9 features.\n",
      "Fitting estimator with 8 features.\n",
      "Fitting estimator with 7 features.\n",
      "Fitting estimator with 6 features.\n",
      "Fitting estimator with 5 features.\n",
      "Fitting estimator with 4 features.\n",
      "Fitting estimator with 3 features.\n",
      "Fitting estimator with 2 features.\n",
      "Fitting estimator with 47 features.\n",
      "Fitting estimator with 46 features.\n",
      "Fitting estimator with 45 features.\n",
      "Fitting estimator with 44 features.\n",
      "Fitting estimator with 43 features.\n",
      "Fitting estimator with 42 features.\n",
      "Fitting estimator with 41 features.\n",
      "Fitting estimator with 40 features.\n",
      "Fitting estimator with 39 features.\n",
      "Fitting estimator with 38 features.\n",
      "Fitting estimator with 37 features.\n",
      "Fitting estimator with 36 features.\n",
      "Fitting estimator with 35 features.\n",
      "Fitting estimator with 34 features.\n",
      "Fitting estimator with 33 features.\n",
      "Fitting estimator with 32 features.\n",
      "Fitting estimator with 31 features.\n",
      "Fitting estimator with 30 features.\n",
      "Fitting estimator with 29 features.\n",
      "Fitting estimator with 28 features.\n",
      "Fitting estimator with 27 features.\n",
      "Fitting estimator with 26 features.\n",
      "Fitting estimator with 25 features.\n",
      "Fitting estimator with 24 features.\n",
      "Fitting estimator with 23 features.\n",
      "Fitting estimator with 22 features.\n",
      "Fitting estimator with 21 features.\n",
      "Fitting estimator with 20 features.\n",
      "Fitting estimator with 19 features.\n",
      "Fitting estimator with 18 features.\n",
      "Fitting estimator with 17 features.\n",
      "Fitting estimator with 16 features.\n",
      "Fitting estimator with 15 features.\n",
      "Fitting estimator with 14 features.\n",
      "Fitting estimator with 13 features.\n",
      "Fitting estimator with 12 features.\n",
      "Fitting estimator with 11 features.\n",
      "Fitting estimator with 10 features.\n",
      "Fitting estimator with 9 features.\n",
      "Fitting estimator with 8 features.\n",
      "Fitting estimator with 7 features.\n",
      "Fitting estimator with 6 features.\n",
      "Fitting estimator with 5 features.\n",
      "Fitting estimator with 4 features.\n",
      "Fitting estimator with 3 features.\n",
      "Fitting estimator with 2 features.\n",
      "(137362, 49)\n",
      "(137362, 44)\n",
      "    APP_NB  APP_NB_PAYS  APP_NB_TYPE  COUNTRY  FIRST_CLASSE  \\\n",
      "2        1            1            1       38         22337   \n",
      "4        1            1            1       16         22865   \n",
      "5        1            1            1       16           370   \n",
      "9        1            1            1       26          2720   \n",
      "12       1            1            0       36         12804   \n",
      "\n",
      "    FISRT_APP_COUNTRY  FISRT_APP_TYPE  FISRT_INV_COUNTRY  FISRT_INV_TYPE  \\\n",
      "2                  49               0                 52               0   \n",
      "4                  27               0                 29              -1   \n",
      "5                  27               0                 29              -1   \n",
      "9                  34               0                 37              -1   \n",
      "12                 47               0                 50              -1   \n",
      "\n",
      "    IDX_ORIGIN       ...        cited_n  oecd_NB_BACKWARD_NPL  \\\n",
      "2     0.897778       ...              6                 0.125   \n",
      "4     0.625000       ...              2                 0.000   \n",
      "5     0.816327       ...              2                 0.000   \n",
      "9     0.925926       ...              4                 0.000   \n",
      "12    0.875000       ...              3                 0.000   \n",
      "\n",
      "    oecd_NB_BACKWARD_PL  oecd_NB_ROOT_CLASSES  pct_NB_IPC  pct_NB_IPC_LY  \\\n",
      "2              0.785714              0.166667    0.933952       0.821558   \n",
      "4              0.500000              0.200000    1.000000       0.634537   \n",
      "5              0.084507              0.222222    0.549479       0.980357   \n",
      "9              0.666667              0.166667    1.000000       0.596318   \n",
      "12             0.400000              0.250000    0.691353       0.740251   \n",
      "\n",
      "    filing-begin  pub-filing  pub_year  VARIABLE_CIBLE  \n",
      "2            334         214      1993               0  \n",
      "4            335         212      1990               0  \n",
      "5            365         182      2010               0  \n",
      "9            365         214      1989               0  \n",
      "12           366         181      1993               0  \n",
      "\n",
      "[5 rows x 44 columns]\n"
     ]
    }
   ],
   "source": [
    "features = df1.columns.tolist()\n",
    "features.remove('VARIABLE_CIBLE')\n",
    "features.remove('index_origin')\n",
    "\n",
    "# features selection\n",
    "estimator = RandomForestClassifier(n_estimators=300, n_jobs=6, class_weight='balanced')\n",
    "selector = RFECV(estimator, step=1, cv=3, scoring='roc_auc', verbose=3)\n",
    "\n",
    "selector.fit(df1_train[features].values, df1_train['VARIABLE_CIBLE'].values)\n",
    "cols = [features[i] for i in range(len(features)) if selector.support_[i]]\n",
    "\n",
    "cols.append('VARIABLE_CIBLE')\n",
    "print(df1.shape)\n",
    "df1 = df1[cols]\n",
    "print(df1.shape)\n",
    "print( df1.head())"
   ]
  },
  {
   "cell_type": "code",
   "execution_count": 4,
   "metadata": {
    "collapsed": false
   },
   "outputs": [
    {
     "name": "stdout",
     "output_type": "stream",
     "text": [
      "['APP_NB', 'APP_NB_PAYS', 'APP_NB_TYPE', 'COUNTRY', 'FIRST_CLASSE', 'FISRT_APP_COUNTRY', 'FISRT_APP_TYPE', 'FISRT_INV_COUNTRY', 'FISRT_INV_TYPE', 'IDX_ORIGIN', 'IDX_RADIC', 'INV_NB', 'INV_NB_PAYS', 'INV_NB_TYPE', 'LANGUAGE_OF_FILLING', 'MAIN_IPC', 'NB_BACKWARD', 'NB_BACKWARD_AUTRE', 'NB_BACKWARD_NPL', 'NB_BACKWARD_PL', 'NB_BACKWARD_XY', 'NB_CLASSES', 'NB_FIELDS', 'NB_ROOT_CLASSES', 'NB_SECTORS', 'SOURCE_BEGIN_MONTH', 'SOURCE_IDX_RAD', 'TECHNOLOGIE_FIELD', 'TECHNOLOGIE_SECTOR', 'cited_age_max', 'cited_age_mean', 'cited_age_median', 'cited_age_min', 'cited_age_std', 'cited_n', 'oecd_NB_BACKWARD_NPL', 'oecd_NB_BACKWARD_PL', 'oecd_NB_ROOT_CLASSES', 'pct_NB_IPC', 'pct_NB_IPC_LY', 'filing-begin', 'pub-filing', 'pub_year', 'VARIABLE_CIBLE']\n"
     ]
    }
   ],
   "source": [
    "print(cols)"
   ]
  },
  {
   "cell_type": "code",
   "execution_count": 5,
   "metadata": {
    "collapsed": false
   },
   "outputs": [
    {
     "name": "stdout",
     "output_type": "stream",
     "text": [
      "['NB_BACKWARD_I', 'SOURCE_CITED_AGE', 'SOURCE_IDX_ORI', 'VOIE_DEPOT', 'index_origin']\n"
     ]
    }
   ],
   "source": [
    "columns1 = ['APP_NB', 'APP_NB_PAYS', 'APP_NB_TYPE', 'COUNTRY', 'FIRST_CLASSE', 'FISRT_APP_COUNTRY', \n",
    "            'FISRT_APP_TYPE', 'FISRT_INV_COUNTRY', 'FISRT_INV_TYPE', 'IDX_ORIGIN', 'IDX_RADIC', 'INV_NB',\n",
    "            'INV_NB_PAYS', 'INV_NB_TYPE', 'LANGUAGE_OF_FILLING', 'MAIN_IPC', 'NB_BACKWARD', 'NB_BACKWARD_AUTRE',\n",
    "            'NB_BACKWARD_NPL', 'NB_BACKWARD_PL', 'NB_BACKWARD_XY', 'NB_CLASSES', 'NB_FIELDS', 'NB_ROOT_CLASSES',\n",
    "            'NB_SECTORS', 'SOURCE_BEGIN_MONTH', 'SOURCE_IDX_RAD', 'TECHNOLOGIE_FIELD', 'TECHNOLOGIE_SECTOR',\n",
    "            'cited_age_max', 'cited_age_mean', 'cited_age_median', 'cited_age_min', 'cited_age_std', 'cited_n',\n",
    "            'oecd_NB_BACKWARD_NPL', 'oecd_NB_BACKWARD_PL', 'oecd_NB_ROOT_CLASSES', 'pct_NB_IPC', 'pct_NB_IPC_LY',\n",
    "            'filing-begin', 'pub-filing', 'pub_year', 'VARIABLE_CIBLE']\n",
    "\n",
    "\n",
    "removed = [col for col in df1_train.columns if col not in columns1]\n",
    "print(removed)"
   ]
  },
  {
   "cell_type": "code",
   "execution_count": 6,
   "metadata": {
    "collapsed": false
   },
   "outputs": [
    {
     "data": {
      "text/plain": [
       "[<matplotlib.lines.Line2D at 0x7f196bbc2cc0>]"
      ]
     },
     "execution_count": 6,
     "metadata": {},
     "output_type": "execute_result"
    },
    {
     "data": {
      "image/png": "[encoded data removed]",
      "text/plain": [
       "<matplotlib.figure.Figure at 0x7f196d09e908>"
      ]
     },
     "metadata": {},
     "output_type": "display_data"
    }
   ],
   "source": [
    "plt.figure(figsize=(13,9))\n",
    "plt.plot(range(len(selector.grid_scores_)), selector.grid_scores_)"
   ]
  },
  {
   "cell_type": "markdown",
   "metadata": {},
   "source": [
    "# xgboost"
   ]
  },
  {
   "cell_type": "markdown",
   "metadata": {},
   "source": [
    "### training on df0"
   ]
  },
  {
   "cell_type": "code",
   "execution_count": 3,
   "metadata": {
    "collapsed": false
   },
   "outputs": [
    {
     "name": "stdout",
     "output_type": "stream",
     "text": [
      "['IDX_ORIGIN', 'IDX_RADIC', 'NB_BACKWARD_I', 'SOURCE_BEGIN_MONTH', 'SOURCE_CITED_AGE', 'SOURCE_IDX_ORI', 'SOURCE_IDX_RAD', 'cited_age_max', 'cited_age_mean', 'cited_age_median', 'cited_age_min', 'index_origin']\n"
     ]
    }
   ],
   "source": [
    "# columns selected for df0_train after RFECV\n",
    "columns0 = ['APP_NB', 'APP_NB_PAYS', 'APP_NB_TYPE', 'COUNTRY', 'FIRST_CLASSE', 'FISRT_APP_COUNTRY', \n",
    "           'FISRT_APP_TYPE', 'FISRT_INV_COUNTRY', 'FISRT_INV_TYPE', 'INV_NB', 'INV_NB_PAYS', \n",
    "           'INV_NB_TYPE', 'LANGUAGE_OF_FILLING', 'MAIN_IPC', 'NB_BACKWARD', 'NB_BACKWARD_AUTRE', \n",
    "           'NB_BACKWARD_NPL', 'NB_BACKWARD_PL', 'NB_BACKWARD_XY', 'NB_CLASSES', 'NB_FIELDS', \n",
    "           'NB_ROOT_CLASSES', 'NB_SECTORS', 'TECHNOLOGIE_FIELD', 'TECHNOLOGIE_SECTOR', 'VOIE_DEPOT', \n",
    "           'oecd_NB_BACKWARD_NPL', 'oecd_NB_BACKWARD_PL', 'oecd_NB_ROOT_CLASSES', 'pct_NB_IPC', 'pct_NB_IPC_LY',\n",
    "           'filing-begin', 'pub-filing', 'pub_year', 'VARIABLE_CIBLE']\n",
    "\n",
    "removed = [col for col in df0_train.columns if col not in columns0]\n",
    "print(removed)\n",
    "\n",
    "df_train0, df_test0 = train_test_split(df0_train[columns0], test_size=0.2, random_state=42)\n",
    "\n",
    "columns0.remove('VARIABLE_CIBLE')\n"
   ]
  },
  {
   "cell_type": "code",
   "execution_count": 4,
   "metadata": {
    "collapsed": false
   },
   "outputs": [
    {
     "name": "stdout",
     "output_type": "stream",
     "text": [
      "Index(['APP_NB', 'APP_NB_PAYS', 'APP_NB_TYPE', 'COUNTRY', 'FIRST_CLASSE',\n",
      "       'FISRT_APP_COUNTRY', 'FISRT_APP_TYPE', 'FISRT_INV_COUNTRY',\n",
      "       'FISRT_INV_TYPE', 'INV_NB', 'INV_NB_PAYS', 'INV_NB_TYPE',\n",
      "       'LANGUAGE_OF_FILLING', 'MAIN_IPC', 'NB_BACKWARD', 'NB_BACKWARD_AUTRE',\n",
      "       'NB_BACKWARD_NPL', 'NB_BACKWARD_PL', 'NB_BACKWARD_XY', 'NB_CLASSES',\n",
      "       'NB_FIELDS', 'NB_ROOT_CLASSES', 'NB_SECTORS', 'TECHNOLOGIE_FIELD',\n",
      "       'TECHNOLOGIE_SECTOR', 'VOIE_DEPOT', 'oecd_NB_BACKWARD_NPL',\n",
      "       'oecd_NB_BACKWARD_PL', 'oecd_NB_ROOT_CLASSES', 'pct_NB_IPC',\n",
      "       'pct_NB_IPC_LY', 'filing-begin', 'pub-filing', 'pub_year',\n",
      "       'VARIABLE_CIBLE'],\n",
      "      dtype='object')\n",
      "weight statistics: wpos=14415.8, wneg=19123.2, ratio=1.32654\n",
      "loading data end, start to boost trees"
     ]
    },
    {
     "name": "stderr",
     "output_type": "stream",
     "text": [
      "[0]\ttrain-auc:0.661165\n",
      "[1]\ttrain-auc:0.669866\n",
      "[2]\ttrain-auc:0.678096\n",
      "[3]\ttrain-auc:0.684199\n",
      "[4]\ttrain-auc:0.688666\n",
      "[5]\ttrain-auc:0.692645\n",
      "[6]\ttrain-auc:0.696437\n",
      "[7]\ttrain-auc:0.700498\n",
      "[8]\ttrain-auc:0.703279\n",
      "[9]\ttrain-auc:0.705570\n",
      "[10]\ttrain-auc:0.706984\n",
      "[11]\ttrain-auc:0.708640\n",
      "[12]\ttrain-auc:0.709729\n",
      "[13]\ttrain-auc:0.711538\n",
      "[14]\ttrain-auc:0.712656\n",
      "[15]\ttrain-auc:0.714327\n",
      "[16]\ttrain-auc:0.716169\n",
      "[17]\ttrain-auc:0.717288\n",
      "[18]\ttrain-auc:0.718185\n",
      "[19]\ttrain-auc:0.719423\n",
      "[20]\ttrain-auc:0.720649\n",
      "[21]\ttrain-auc:0.721332\n",
      "[22]\ttrain-auc:0.723163\n",
      "[23]\ttrain-auc:0.724274\n",
      "[24]\ttrain-auc:0.725077\n",
      "[25]\ttrain-auc:0.726321\n",
      "[26]\ttrain-auc:0.726557\n",
      "[27]\ttrain-auc:0.726933\n",
      "[28]\ttrain-auc:0.727092\n",
      "[29]\ttrain-auc:0.727864\n",
      "[30]\ttrain-auc:0.728787\n",
      "[31]\ttrain-auc:0.729961\n",
      "[32]\ttrain-auc:0.730796\n",
      "[33]\ttrain-auc:0.731033\n",
      "[34]\ttrain-auc:0.731356\n",
      "[35]\ttrain-auc:0.731990\n",
      "[36]\ttrain-auc:0.732637\n",
      "[37]\ttrain-auc:0.733088\n",
      "[38]\ttrain-auc:0.733539\n",
      "[39]\ttrain-auc:0.734351\n",
      "[40]\ttrain-auc:0.735559\n",
      "[41]\ttrain-auc:0.736652\n",
      "[42]\ttrain-auc:0.737253\n",
      "[43]\ttrain-auc:0.738109\n",
      "[44]\ttrain-auc:0.738425\n",
      "[45]\ttrain-auc:0.738535\n",
      "[46]\ttrain-auc:0.738725\n",
      "[47]\ttrain-auc:0.739370\n",
      "[48]\ttrain-auc:0.739972\n",
      "[49]\ttrain-auc:0.740599\n",
      "[50]\ttrain-auc:0.740794\n",
      "[51]\ttrain-auc:0.741464\n",
      "[52]\ttrain-auc:0.741908\n",
      "[53]\ttrain-auc:0.742017\n",
      "[54]\ttrain-auc:0.742804\n",
      "[55]\ttrain-auc:0.743405\n",
      "[56]\ttrain-auc:0.744206\n",
      "[57]\ttrain-auc:0.745257\n",
      "[58]\ttrain-auc:0.746294\n",
      "[59]\ttrain-auc:0.747033\n",
      "[60]\ttrain-auc:0.747858\n",
      "[61]\ttrain-auc:0.748384\n",
      "[62]\ttrain-auc:0.748606\n",
      "[63]\ttrain-auc:0.748680\n",
      "[64]\ttrain-auc:0.749036\n",
      "[65]\ttrain-auc:0.749443\n",
      "[66]\ttrain-auc:0.749597\n",
      "[67]\ttrain-auc:0.750041\n",
      "[68]\ttrain-auc:0.750313\n",
      "[69]\ttrain-auc:0.750809\n",
      "[70]\ttrain-auc:0.751141\n",
      "[71]\ttrain-auc:0.751913\n",
      "[72]\ttrain-auc:0.752441\n",
      "[73]\ttrain-auc:0.752704\n",
      "[74]\ttrain-auc:0.753464\n",
      "[75]\ttrain-auc:0.753739\n",
      "[76]\ttrain-auc:0.754110\n",
      "[77]\ttrain-auc:0.754716\n",
      "[78]\ttrain-auc:0.755267\n",
      "[79]\ttrain-auc:0.756095\n",
      "[80]\ttrain-auc:0.756729\n",
      "[81]\ttrain-auc:0.757284\n",
      "[82]\ttrain-auc:0.757851\n",
      "[83]\ttrain-auc:0.758031\n",
      "[84]\ttrain-auc:0.758426\n",
      "[85]\ttrain-auc:0.758580\n",
      "[86]\ttrain-auc:0.758939\n",
      "[87]\ttrain-auc:0.759452\n",
      "[88]\ttrain-auc:0.760003\n",
      "[89]\ttrain-auc:0.760224\n",
      "[90]\ttrain-auc:0.760455\n",
      "[91]\ttrain-auc:0.760803\n",
      "[92]\ttrain-auc:0.760951\n",
      "[93]\ttrain-auc:0.761640\n",
      "[94]\ttrain-auc:0.762358\n",
      "[95]\ttrain-auc:0.762734\n",
      "[96]\ttrain-auc:0.763117\n",
      "[97]\ttrain-auc:0.763477\n",
      "[98]\ttrain-auc:0.763642\n",
      "[99]\ttrain-auc:0.764171\n",
      "[100]\ttrain-auc:0.764668\n",
      "[101]\ttrain-auc:0.764809\n",
      "[102]\ttrain-auc:0.765249\n",
      "[103]\ttrain-auc:0.765769\n",
      "[104]\ttrain-auc:0.766557\n",
      "[105]\ttrain-auc:0.766948\n",
      "[106]\ttrain-auc:0.767860\n",
      "[107]\ttrain-auc:0.768563\n",
      "[108]\ttrain-auc:0.768750\n",
      "[109]\ttrain-auc:0.769295\n",
      "[110]\ttrain-auc:0.769764\n",
      "[111]\ttrain-auc:0.770162\n",
      "[112]\ttrain-auc:0.770535\n",
      "[113]\ttrain-auc:0.771061\n",
      "[114]\ttrain-auc:0.771580\n",
      "[115]\ttrain-auc:0.772006\n",
      "[116]\ttrain-auc:0.772375\n",
      "[117]\ttrain-auc:0.772617\n",
      "[118]\ttrain-auc:0.772662\n",
      "[119]\ttrain-auc:0.773115\n",
      "[120]\ttrain-auc:0.773653\n",
      "[121]\ttrain-auc:0.774305\n",
      "[122]\ttrain-auc:0.774618\n",
      "[123]\ttrain-auc:0.775142\n",
      "[124]\ttrain-auc:0.775320\n",
      "[125]\ttrain-auc:0.775517\n"
     ]
    },
    {
     "name": "stdout",
     "output_type": "stream",
     "text": [
      "\n",
      "finish training\n"
     ]
    },
    {
     "name": "stderr",
     "output_type": "stream",
     "text": [
      "[126]\ttrain-auc:0.775874\n"
     ]
    }
   ],
   "source": [
    "test_size = len(df_test0)\n",
    "train_size = len(df_train0)\n",
    "# rescale weight to make it same as test set\n",
    "weight = np.ones(train_size) * float(test_size) / float(train_size)\n",
    "\n",
    "print(df_train0.columns)\n",
    "\n",
    "sum_wpos = sum( weight[i] for i in range(train_size) if df_train0['VARIABLE_CIBLE'].iloc[i] == 1.0  )\n",
    "sum_wneg = sum( weight[i] for i in range(train_size) if df_train0['VARIABLE_CIBLE'].iloc[i] == 0.0  )\n",
    "\n",
    "# print weight statistics\n",
    "print ('weight statistics: wpos=%g, wneg=%g, ratio=%g' % ( sum_wpos, sum_wneg, sum_wneg/sum_wpos ))\n",
    "\n",
    "\n",
    "# construct xgboost.DMatrix from numpy array, treat -999.0 as missing value\n",
    "dtrain0 = xgb.DMatrix( df_train0[columns0].values, label=df_train0['VARIABLE_CIBLE'].values, weight=weight )\n",
    "dtest0 = xgb.DMatrix( df_test0[columns0].values, label=df_test0['VARIABLE_CIBLE'].values)\n",
    "\n",
    "# setup parameters for xgboost\n",
    "param = {}\n",
    "# use logistic regression loss, use raw prediction before logistic transformation\n",
    "# since we only need the rank\n",
    "param['objective'] = 'binary:logistic'\n",
    "# scale weight of positive examples\n",
    "param['scale_pos_weight'] = sum_wneg/sum_wpos\n",
    "param['eta'] = 0.3\n",
    "param['max_depth'] = 6\n",
    "param['eval_metric'] = 'auc'\n",
    "param['silent'] = 0\n",
    "param['nthread'] = 6\n",
    "\n",
    "# you can directly throw param in, though we want to watch multiple metrics here\n",
    "plst = list(param.items())\n",
    "\n",
    "\n",
    "evallist  = [(dtrain0,'train'), (dtest0,'eval')]\n",
    "\n",
    "\n",
    "\n",
    "num_round = 127\n",
    "print ('loading data end, start to boost trees')\n",
    "bst0 = xgb.train( plst, dtrain0, num_round, evallist)#, early_stopping_rounds=50 );\n",
    "# save out model\n",
    "bst0.save_model('df0_rfecv.model')\n",
    "\n",
    "print ('finish training')\n"
   ]
  },
  {
   "cell_type": "code",
   "execution_count": 36,
   "metadata": {
    "collapsed": false
   },
   "outputs": [
    {
     "name": "stdout",
     "output_type": "stream",
     "text": [
      "best n_tree limit : 128\n",
      "best iteration : 127\n"
     ]
    }
   ],
   "source": [
    "print('best n_tree limit :', bst0.best_ntree_limit)\n",
    "print('best iteration :', bst0.best_iteration)"
   ]
  },
  {
   "cell_type": "markdown",
   "metadata": {},
   "source": [
    "best n_tree limit : 70\n",
    "\n",
    "best iteration : 69"
   ]
  },
  {
   "cell_type": "markdown",
   "metadata": {
    "collapsed": true
   },
   "source": [
    "### training on df1"
   ]
  },
  {
   "cell_type": "code",
   "execution_count": 5,
   "metadata": {
    "collapsed": true
   },
   "outputs": [],
   "source": [
    "columns1 = ['APP_NB', 'APP_NB_PAYS', 'APP_NB_TYPE', 'COUNTRY', 'FIRST_CLASSE', 'FISRT_APP_COUNTRY', \n",
    "            'FISRT_APP_TYPE', 'FISRT_INV_COUNTRY', 'FISRT_INV_TYPE', 'IDX_ORIGIN', 'IDX_RADIC', 'INV_NB',\n",
    "            'INV_NB_PAYS', 'INV_NB_TYPE', 'LANGUAGE_OF_FILLING', 'MAIN_IPC', 'NB_BACKWARD', 'NB_BACKWARD_AUTRE',\n",
    "            'NB_BACKWARD_NPL', 'NB_BACKWARD_PL', 'NB_BACKWARD_XY', 'NB_CLASSES', 'NB_FIELDS', 'NB_ROOT_CLASSES',\n",
    "            'NB_SECTORS', 'SOURCE_BEGIN_MONTH', 'SOURCE_IDX_RAD', 'TECHNOLOGIE_FIELD', 'TECHNOLOGIE_SECTOR',\n",
    "            'cited_age_max', 'cited_age_mean', 'cited_age_median', 'cited_age_min', 'cited_age_std', 'cited_n',\n",
    "            'oecd_NB_BACKWARD_NPL', 'oecd_NB_BACKWARD_PL', 'oecd_NB_ROOT_CLASSES', 'pct_NB_IPC', 'pct_NB_IPC_LY',\n",
    "            'filing-begin', 'pub-filing', 'pub_year', 'VARIABLE_CIBLE']\n",
    "\n",
    "df_train1, df_test1 = train_test_split(df1_train[columns1], test_size=0.2, random_state=42)\n",
    "\n",
    "columns1.remove('VARIABLE_CIBLE')"
   ]
  },
  {
   "cell_type": "code",
   "execution_count": 6,
   "metadata": {
    "collapsed": false
   },
   "outputs": [
    {
     "name": "stdout",
     "output_type": "stream",
     "text": [
      "weight statistics: wpos=7066.1, wneg=11281.9, ratio=1.59662\n",
      "loading data end, start to boost trees"
     ]
    },
    {
     "name": "stderr",
     "output_type": "stream",
     "text": [
      "[0]\ttrain-auc:0.653260\n",
      "[1]\ttrain-auc:0.662263\n",
      "[2]\ttrain-auc:0.666141\n",
      "[3]\ttrain-auc:0.671018\n",
      "[4]\ttrain-auc:0.673712\n",
      "[5]\ttrain-auc:0.678009\n",
      "[6]\ttrain-auc:0.680689\n",
      "[7]\ttrain-auc:0.683003\n",
      "[8]\ttrain-auc:0.685821\n",
      "[9]\ttrain-auc:0.687769\n",
      "[10]\ttrain-auc:0.689692\n",
      "[11]\ttrain-auc:0.691520\n",
      "[12]\ttrain-auc:0.693819\n",
      "[13]\ttrain-auc:0.694903\n",
      "[14]\ttrain-auc:0.696397\n",
      "[15]\ttrain-auc:0.697781\n",
      "[16]\ttrain-auc:0.698994\n",
      "[17]\ttrain-auc:0.699697\n",
      "[18]\ttrain-auc:0.700517\n",
      "[19]\ttrain-auc:0.701811\n",
      "[20]\ttrain-auc:0.702885\n",
      "[21]\ttrain-auc:0.703989\n",
      "[22]\ttrain-auc:0.705037\n",
      "[23]\ttrain-auc:0.705673\n",
      "[24]\ttrain-auc:0.706396\n",
      "[25]\ttrain-auc:0.707328\n",
      "[26]\ttrain-auc:0.708196\n",
      "[27]\ttrain-auc:0.708847\n",
      "[28]\ttrain-auc:0.709859\n",
      "[29]\ttrain-auc:0.710549\n",
      "[30]\ttrain-auc:0.711023\n",
      "[31]\ttrain-auc:0.711693\n",
      "[32]\ttrain-auc:0.712088\n",
      "[33]\ttrain-auc:0.713113\n",
      "[34]\ttrain-auc:0.713462\n",
      "[35]\ttrain-auc:0.713867\n",
      "[36]\ttrain-auc:0.714365\n",
      "[37]\ttrain-auc:0.715058\n",
      "[38]\ttrain-auc:0.715448\n",
      "[39]\ttrain-auc:0.715676\n",
      "[40]\ttrain-auc:0.716079\n",
      "[41]\ttrain-auc:0.716527\n",
      "[42]\ttrain-auc:0.716983\n",
      "[43]\ttrain-auc:0.717725\n",
      "[44]\ttrain-auc:0.718026\n",
      "[45]\ttrain-auc:0.718423\n",
      "[46]\ttrain-auc:0.718835\n",
      "[47]\ttrain-auc:0.719940\n",
      "[48]\ttrain-auc:0.720564\n",
      "[49]\ttrain-auc:0.720786\n",
      "[50]\ttrain-auc:0.721478\n",
      "[51]\ttrain-auc:0.721642\n",
      "[52]\ttrain-auc:0.721977\n",
      "[53]\ttrain-auc:0.722186\n",
      "[54]\ttrain-auc:0.722866\n",
      "[55]\ttrain-auc:0.723723\n",
      "[56]\ttrain-auc:0.724218\n",
      "[57]\ttrain-auc:0.725077\n",
      "[58]\ttrain-auc:0.725630\n",
      "[59]\ttrain-auc:0.725933\n",
      "[60]\ttrain-auc:0.726597\n",
      "[61]\ttrain-auc:0.727090\n",
      "[62]\ttrain-auc:0.727278\n",
      "[63]\ttrain-auc:0.727937\n",
      "[64]\ttrain-auc:0.728647\n",
      "[65]\ttrain-auc:0.729362\n",
      "[66]\ttrain-auc:0.729553\n",
      "[67]\ttrain-auc:0.730153\n",
      "[68]\ttrain-auc:0.730414\n",
      "[69]\ttrain-auc:0.730750\n",
      "[70]\ttrain-auc:0.730963\n",
      "[71]\ttrain-auc:0.731238\n",
      "[72]\ttrain-auc:0.731424\n",
      "[73]\ttrain-auc:0.731686\n",
      "[74]\ttrain-auc:0.732130\n",
      "[75]\ttrain-auc:0.732784\n",
      "[76]\ttrain-auc:0.733731\n",
      "[77]\ttrain-auc:0.734274\n",
      "[78]\ttrain-auc:0.734494\n",
      "[79]\ttrain-auc:0.735010\n",
      "[80]\ttrain-auc:0.735567\n",
      "[81]\ttrain-auc:0.735874\n",
      "[82]\ttrain-auc:0.736004\n",
      "[83]\ttrain-auc:0.736361\n",
      "[84]\ttrain-auc:0.736540\n",
      "[85]\ttrain-auc:0.736882\n",
      "[86]\ttrain-auc:0.737080\n",
      "[87]\ttrain-auc:0.737477\n",
      "[88]\ttrain-auc:0.738070\n",
      "[89]\ttrain-auc:0.738379\n",
      "[90]\ttrain-auc:0.738500\n",
      "[91]\ttrain-auc:0.738782\n",
      "[92]\ttrain-auc:0.738968\n",
      "[93]\ttrain-auc:0.739248\n",
      "[94]\ttrain-auc:0.739710\n",
      "[95]\ttrain-auc:0.740451\n",
      "[96]\ttrain-auc:0.741025\n",
      "[97]\ttrain-auc:0.741426\n",
      "[98]\ttrain-auc:0.741888\n",
      "[99]\ttrain-auc:0.742205\n",
      "[100]\ttrain-auc:0.742521\n",
      "[101]\ttrain-auc:0.742608\n",
      "[102]\ttrain-auc:0.742771\n",
      "[103]\ttrain-auc:0.743108\n",
      "[104]\ttrain-auc:0.743525\n",
      "[105]\ttrain-auc:0.743967\n",
      "[106]\ttrain-auc:0.745039\n",
      "[107]\ttrain-auc:0.745410\n",
      "[108]\ttrain-auc:0.745956\n",
      "[109]\ttrain-auc:0.746428\n",
      "[110]\ttrain-auc:0.746702\n",
      "[111]\ttrain-auc:0.747181\n",
      "[112]\ttrain-auc:0.747270\n",
      "[113]\ttrain-auc:0.747655\n",
      "[114]\ttrain-auc:0.747763\n",
      "[115]\ttrain-auc:0.747798\n",
      "[116]\ttrain-auc:0.748465\n",
      "[117]\ttrain-auc:0.749053\n",
      "[118]\ttrain-auc:0.749557\n",
      "[119]\ttrain-auc:0.750115\n",
      "[120]\ttrain-auc:0.750315\n",
      "[121]\ttrain-auc:0.750821\n",
      "[122]\ttrain-auc:0.751291\n",
      "[123]\ttrain-auc:0.751739\n",
      "[124]\ttrain-auc:0.752132\n",
      "[125]\ttrain-auc:0.752339\n",
      "[126]\ttrain-auc:0.752666\n",
      "[127]\ttrain-auc:0.753108\n",
      "[128]\ttrain-auc:0.753478\n",
      "[129]\ttrain-auc:0.753864\n",
      "[130]\ttrain-auc:0.754237\n",
      "[131]\ttrain-auc:0.754752\n",
      "[132]\ttrain-auc:0.755314\n",
      "[133]\ttrain-auc:0.755765\n",
      "[134]\ttrain-auc:0.756328\n",
      "[135]\ttrain-auc:0.756773\n",
      "[136]\ttrain-auc:0.757213\n",
      "[137]\ttrain-auc:0.757394\n",
      "[138]\ttrain-auc:0.757978\n",
      "[139]\ttrain-auc:0.758468\n",
      "[140]\ttrain-auc:0.758642\n",
      "[141]\ttrain-auc:0.759033\n"
     ]
    },
    {
     "name": "stdout",
     "output_type": "stream",
     "text": [
      "\n",
      "finish training\n"
     ]
    },
    {
     "name": "stderr",
     "output_type": "stream",
     "text": [
      "[142]\ttrain-auc:0.759305\n"
     ]
    }
   ],
   "source": [
    "test_size = len(df_test1)\n",
    "train_size = len(df_train1)\n",
    "# rescale weight to make it same as test set\n",
    "weight = np.ones(train_size) * float(test_size) / float(train_size)\n",
    "\n",
    "\n",
    "sum_wpos = sum( weight[i] for i in range(train_size) if df_train1['VARIABLE_CIBLE'].iloc[i] == 1.0  )\n",
    "sum_wneg = sum( weight[i] for i in range(train_size) if df_train1['VARIABLE_CIBLE'].iloc[i] == 0.0  )\n",
    "\n",
    "# print weight statistics\n",
    "print ('weight statistics: wpos=%g, wneg=%g, ratio=%g' % ( sum_wpos, sum_wneg, sum_wneg/sum_wpos ))\n",
    "\n",
    "\n",
    "# construct xgboost.DMatrix from numpy array, treat -999.0 as missing value\n",
    "dtrain1 = xgb.DMatrix( df_train1[columns1].values, label=df_train1['VARIABLE_CIBLE'].values, weight=weight )\n",
    "dtest1 = xgb.DMatrix( df_test1[columns1].values, label=df_test1['VARIABLE_CIBLE'].values)\n",
    "\n",
    "# setup parameters for xgboost\n",
    "param = {}\n",
    "# use logistic regression loss, use raw prediction before logistic transformation\n",
    "# since we only need the rank\n",
    "param['objective'] = 'binary:logistic'\n",
    "# scale weight of positive examples\n",
    "param['scale_pos_weight'] = sum_wneg/sum_wpos\n",
    "param['eta'] = 0.3\n",
    "param['max_depth'] = 4\n",
    "param['eval_metric'] = 'auc'\n",
    "param['silent'] = 0\n",
    "param['nthread'] = 6\n",
    "\n",
    "# you can directly throw param in, though we want to watch multiple metrics here\n",
    "plst = list(param.items())\n",
    "\n",
    "\n",
    "evallist  = [(dtrain1,'train'), (dtest1,'eval')]\n",
    "\n",
    "\n",
    "# boost 120 tres\n",
    "num_round = 143\n",
    "print ('loading data end, start to boost trees')\n",
    "bst1 = xgb.train( plst, dtrain1, num_round, evallist)#,early_stopping_rounds=50 );\n",
    "# save out model\n",
    "bst1.save_model('df1_rfecv.model')\n",
    "\n",
    "print ('finish training')"
   ]
  },
  {
   "cell_type": "code",
   "execution_count": 38,
   "metadata": {
    "collapsed": false
   },
   "outputs": [
    {
     "name": "stdout",
     "output_type": "stream",
     "text": [
      "best n_tree limit : 144\n",
      "best iteration : 143\n"
     ]
    }
   ],
   "source": [
    "print('best n_tree limit :', bst1.best_ntree_limit)\n",
    "print('best iteration :', bst1.best_iteration)"
   ]
  },
  {
   "cell_type": "markdown",
   "metadata": {},
   "source": [
    "best n_tree limit : 144\n",
    "\n",
    "best iteration : 143"
   ]
  },
  {
   "cell_type": "markdown",
   "metadata": {},
   "source": [
    "# Combining models on df1 and df0"
   ]
  },
  {
   "cell_type": "code",
   "execution_count": 7,
   "metadata": {
    "collapsed": false
   },
   "outputs": [
    {
     "name": "stdout",
     "output_type": "stream",
     "text": [
      "[ 0.59825236  0.32929999  0.77510118 ...,  0.67339784  0.54275352\n",
      "  0.52737063]\n",
      "[ 0.72158355  0.68395007  0.56873339 ...,  0.63335812  0.67596596\n",
      "  0.78151017]\n"
     ]
    },
    {
     "data": {
      "text/html": [
       "<div>\n",
       "<table border=\"1\" class=\"dataframe\">\n",
       "  <thead>\n",
       "    <tr style=\"text-align: right;\">\n",
       "      <th></th>\n",
       "      <th>proba_c0</th>\n",
       "      <th>proba_c1</th>\n",
       "      <th>index_origin</th>\n",
       "    </tr>\n",
       "  </thead>\n",
       "  <tbody>\n",
       "    <tr>\n",
       "      <th>0</th>\n",
       "      <td>0.598252</td>\n",
       "      <td>0.401748</td>\n",
       "      <td>1</td>\n",
       "    </tr>\n",
       "    <tr>\n",
       "      <th>1</th>\n",
       "      <td>0.329300</td>\n",
       "      <td>0.670700</td>\n",
       "      <td>2</td>\n",
       "    </tr>\n",
       "    <tr>\n",
       "      <th>2</th>\n",
       "      <td>0.775101</td>\n",
       "      <td>0.224899</td>\n",
       "      <td>3</td>\n",
       "    </tr>\n",
       "    <tr>\n",
       "      <th>3</th>\n",
       "      <td>0.274956</td>\n",
       "      <td>0.725044</td>\n",
       "      <td>4</td>\n",
       "    </tr>\n",
       "    <tr>\n",
       "      <th>4</th>\n",
       "      <td>0.144969</td>\n",
       "      <td>0.855031</td>\n",
       "      <td>7</td>\n",
       "    </tr>\n",
       "  </tbody>\n",
       "</table>\n",
       "</div>"
      ],
      "text/plain": [
       "   proba_c0  proba_c1  index_origin\n",
       "0  0.598252  0.401748             1\n",
       "1  0.329300  0.670700             2\n",
       "2  0.775101  0.224899             3\n",
       "3  0.274956  0.725044             4\n",
       "4  0.144969  0.855031             7"
      ]
     },
     "execution_count": 7,
     "metadata": {},
     "output_type": "execute_result"
    }
   ],
   "source": [
    "deval0 = xgb.DMatrix(df0_eval[columns0].values)\n",
    "y0 = bst0.predict(deval0)\n",
    "\n",
    "deval1 = xgb.DMatrix(df1_eval[columns1].values)\n",
    "y1 = bst1.predict(deval1)\n",
    "\n",
    "\n",
    "df0_eval['proba_c0'] = y0\n",
    "df0_eval['proba_c1'] = 1 - y0 \n",
    "\n",
    "df1_eval['proba_c0'] = y1 \n",
    "df1_eval['proba_c1'] = 1 - y1 \n",
    "\n",
    "cols = ['proba_c0', 'proba_c1', 'index_origin']\n",
    "\n",
    "df_eval_res = pd.concat((df0_eval[cols], df1_eval[cols]), axis=0, ignore_index=True)\n",
    "\n",
    "print(y0)\n",
    "print(y1)\n",
    "\n",
    "df_eval_res.head()"
   ]
  },
  {
   "cell_type": "code",
   "execution_count": 8,
   "metadata": {
    "collapsed": false
   },
   "outputs": [
    {
     "name": "stderr",
     "output_type": "stream",
     "text": [
      "/home/maxime/local/anaconda3/lib/python3.4/site-packages/ipykernel/__main__.py:1: FutureWarning: by argument to sort_index is deprecated, pls use .sort_values(by=...)\n",
      "  if __name__ == '__main__':\n"
     ]
    },
    {
     "data": {
      "text/html": [
       "<div>\n",
       "<table border=\"1\" class=\"dataframe\">\n",
       "  <thead>\n",
       "    <tr style=\"text-align: right;\">\n",
       "      <th></th>\n",
       "      <th>proba_c0</th>\n",
       "      <th>proba_c1</th>\n",
       "      <th>index_origin</th>\n",
       "    </tr>\n",
       "  </thead>\n",
       "  <tbody>\n",
       "    <tr>\n",
       "      <th>84092</th>\n",
       "      <td>0.721584</td>\n",
       "      <td>0.278416</td>\n",
       "      <td>0</td>\n",
       "    </tr>\n",
       "    <tr>\n",
       "      <th>0</th>\n",
       "      <td>0.598252</td>\n",
       "      <td>0.401748</td>\n",
       "      <td>1</td>\n",
       "    </tr>\n",
       "    <tr>\n",
       "      <th>1</th>\n",
       "      <td>0.329300</td>\n",
       "      <td>0.670700</td>\n",
       "      <td>2</td>\n",
       "    </tr>\n",
       "    <tr>\n",
       "      <th>2</th>\n",
       "      <td>0.775101</td>\n",
       "      <td>0.224899</td>\n",
       "      <td>3</td>\n",
       "    </tr>\n",
       "    <tr>\n",
       "      <th>3</th>\n",
       "      <td>0.274956</td>\n",
       "      <td>0.725044</td>\n",
       "      <td>4</td>\n",
       "    </tr>\n",
       "  </tbody>\n",
       "</table>\n",
       "</div>"
      ],
      "text/plain": [
       "       proba_c0  proba_c1  index_origin\n",
       "84092  0.721584  0.278416             0\n",
       "0      0.598252  0.401748             1\n",
       "1      0.329300  0.670700             2\n",
       "2      0.775101  0.224899             3\n",
       "3      0.274956  0.725044             4"
      ]
     },
     "execution_count": 8,
     "metadata": {},
     "output_type": "execute_result"
    }
   ],
   "source": [
    "df_eval_res = df_eval_res.sort_index(by='index_origin', ascending=True)\n",
    "\n",
    "df_eval_res.head()"
   ]
  },
  {
   "cell_type": "code",
   "execution_count": 9,
   "metadata": {
    "collapsed": true
   },
   "outputs": [],
   "source": [
    "np.savetxt('y_pred_xgboost.txt', df_eval_res['proba_c1'].values, fmt='%s')"
   ]
  },
  {
   "cell_type": "code",
   "execution_count": null,
   "metadata": {
    "collapsed": true
   },
   "outputs": [],
   "source": []
  }
 ],
 "metadata": {
  "kernelspec": {
   "display_name": "Python 2",
   "language": "python",
   "name": "python2"
  },
  "language_info": {
   "codemirror_mode": {
    "name": "ipython",
    "version": 2
   },
   "file_extension": ".py",
   "mimetype": "text/x-python",
   "name": "python",
   "nbconvert_exporter": "python",
   "pygments_lexer": "ipython2",
   "version": "2.7.11"
  }
 },
 "nbformat": 4,
 "nbformat_minor": 0
}
