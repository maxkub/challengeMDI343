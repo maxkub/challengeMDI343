{
 "cells": [
  {
   "cell_type": "code",
   "execution_count": 1,
   "metadata": {
    "collapsed": false
   },
   "outputs": [
    {
     "name": "stderr",
     "output_type": "stream",
     "text": [
      "/home/maxime/local/anaconda3/lib/python3.4/site-packages/matplotlib/__init__.py:872: UserWarning: axes.color_cycle is deprecated and replaced with axes.prop_cycle; please use the latter.\n",
      "  warnings.warn(self.msg_depr % (key, alt_key))\n"
     ]
    }
   ],
   "source": [
    "import pandas as pd\n",
    "import matplotlib.pyplot as plt\n",
    "from mpl_toolkits.mplot3d import Axes3D\n",
    "from sklearn.grid_search import GridSearchCV\n",
    "from sklearn.metrics import roc_auc_score, roc_curve\n",
    "from sklearn.preprocessing import StandardScaler, Imputer, OneHotEncoder, LabelEncoder\n",
    "from sklearn.cross_validation import train_test_split\n",
    "from sklearn.neighbors import KNeighborsClassifier\n",
    "from sklearn.utils import resample\n",
    "from sklearn.ensemble import RandomForestClassifier\n",
    "import numpy as np\n",
    "import seaborn as sns\n",
    "import operator\n",
    "import math\n",
    "import tensorflow as tf\n",
    "from data_science import *\n",
    "\n",
    "%matplotlib inline"
   ]
  },
  {
   "cell_type": "code",
   "execution_count": 6,
   "metadata": {
    "collapsed": false
   },
   "outputs": [
    {
     "data": {
      "text/html": [
       "<div>\n",
       "<table border=\"1\" class=\"dataframe\">\n",
       "  <thead>\n",
       "    <tr style=\"text-align: right;\">\n",
       "      <th></th>\n",
       "      <th>APP_NB</th>\n",
       "      <th>APP_NB_PAYS</th>\n",
       "      <th>APP_NB_TYPE</th>\n",
       "      <th>BEGIN_MONTH</th>\n",
       "      <th>COUNTRY</th>\n",
       "      <th>FILING_MONTH</th>\n",
       "      <th>FIRST_CLASSE</th>\n",
       "      <th>FISRT_APP_COUNTRY</th>\n",
       "      <th>FISRT_APP_TYPE</th>\n",
       "      <th>FISRT_INV_COUNTRY</th>\n",
       "      <th>...</th>\n",
       "      <th>cited_age_min</th>\n",
       "      <th>cited_age_std</th>\n",
       "      <th>cited_n</th>\n",
       "      <th>cited_nmiss</th>\n",
       "      <th>index_origin</th>\n",
       "      <th>oecd_NB_BACKWARD_NPL</th>\n",
       "      <th>oecd_NB_BACKWARD_PL</th>\n",
       "      <th>oecd_NB_ROOT_CLASSES</th>\n",
       "      <th>pct_NB_IPC</th>\n",
       "      <th>pct_NB_IPC_LY</th>\n",
       "    </tr>\n",
       "  </thead>\n",
       "  <tbody>\n",
       "    <tr>\n",
       "      <th>0</th>\n",
       "      <td>1</td>\n",
       "      <td>1</td>\n",
       "      <td>1</td>\n",
       "      <td>09/1995</td>\n",
       "      <td>US</td>\n",
       "      <td>08/1996</td>\n",
       "      <td>A61K9/48</td>\n",
       "      <td>US</td>\n",
       "      <td>COMPAGNY</td>\n",
       "      <td>GB</td>\n",
       "      <td>...</td>\n",
       "      <td>7665</td>\n",
       "      <td>NaN</td>\n",
       "      <td>NaN</td>\n",
       "      <td>NaN</td>\n",
       "      <td>-1</td>\n",
       "      <td>0.000</td>\n",
       "      <td>0.000000</td>\n",
       "      <td>0.142857</td>\n",
       "      <td>0.965563</td>\n",
       "      <td>0.723658</td>\n",
       "    </tr>\n",
       "    <tr>\n",
       "      <th>1</th>\n",
       "      <td>1</td>\n",
       "      <td>1</td>\n",
       "      <td>1</td>\n",
       "      <td>11/1999</td>\n",
       "      <td>DE</td>\n",
       "      <td>11/2000</td>\n",
       "      <td>C08G65/26</td>\n",
       "      <td>DE</td>\n",
       "      <td>COMPAGNY</td>\n",
       "      <td>DE</td>\n",
       "      <td>...</td>\n",
       "      <td>7665</td>\n",
       "      <td>NaN</td>\n",
       "      <td>NaN</td>\n",
       "      <td>NaN</td>\n",
       "      <td>-1</td>\n",
       "      <td>0.000</td>\n",
       "      <td>0.000000</td>\n",
       "      <td>0.200000</td>\n",
       "      <td>0.850490</td>\n",
       "      <td>0.697254</td>\n",
       "    </tr>\n",
       "    <tr>\n",
       "      <th>2</th>\n",
       "      <td>1</td>\n",
       "      <td>1</td>\n",
       "      <td>1</td>\n",
       "      <td>06/1992</td>\n",
       "      <td>JP</td>\n",
       "      <td>05/1993</td>\n",
       "      <td>G11B15/07</td>\n",
       "      <td>JP</td>\n",
       "      <td>COMPAGNY</td>\n",
       "      <td>JP</td>\n",
       "      <td>...</td>\n",
       "      <td>256</td>\n",
       "      <td>1188.268558</td>\n",
       "      <td>6</td>\n",
       "      <td>0</td>\n",
       "      <td>-1</td>\n",
       "      <td>0.125</td>\n",
       "      <td>0.785714</td>\n",
       "      <td>0.166667</td>\n",
       "      <td>0.933952</td>\n",
       "      <td>0.821558</td>\n",
       "    </tr>\n",
       "    <tr>\n",
       "      <th>3</th>\n",
       "      <td>1</td>\n",
       "      <td>1</td>\n",
       "      <td>1</td>\n",
       "      <td>05/1994</td>\n",
       "      <td>GB</td>\n",
       "      <td>05/1995</td>\n",
       "      <td>F25B41/04</td>\n",
       "      <td>GB</td>\n",
       "      <td>COMPAGNY</td>\n",
       "      <td>GB</td>\n",
       "      <td>...</td>\n",
       "      <td>7665</td>\n",
       "      <td>NaN</td>\n",
       "      <td>NaN</td>\n",
       "      <td>NaN</td>\n",
       "      <td>-1</td>\n",
       "      <td>0.000</td>\n",
       "      <td>0.230769</td>\n",
       "      <td>0.400000</td>\n",
       "      <td>0.520361</td>\n",
       "      <td>0.830949</td>\n",
       "    </tr>\n",
       "    <tr>\n",
       "      <th>4</th>\n",
       "      <td>1</td>\n",
       "      <td>1</td>\n",
       "      <td>1</td>\n",
       "      <td>12/1988</td>\n",
       "      <td>DE</td>\n",
       "      <td>11/1989</td>\n",
       "      <td>H01F17/06</td>\n",
       "      <td>DE</td>\n",
       "      <td>COMPAGNY</td>\n",
       "      <td>DE</td>\n",
       "      <td>...</td>\n",
       "      <td>709</td>\n",
       "      <td>1177.332791</td>\n",
       "      <td>2</td>\n",
       "      <td>0</td>\n",
       "      <td>-1</td>\n",
       "      <td>0.000</td>\n",
       "      <td>0.500000</td>\n",
       "      <td>0.200000</td>\n",
       "      <td>1.000000</td>\n",
       "      <td>0.634537</td>\n",
       "    </tr>\n",
       "  </tbody>\n",
       "</table>\n",
       "<p>5 rows × 51 columns</p>\n",
       "</div>"
      ],
      "text/plain": [
       "   APP_NB  APP_NB_PAYS  APP_NB_TYPE BEGIN_MONTH COUNTRY FILING_MONTH  \\\n",
       "0       1            1            1     09/1995      US      08/1996   \n",
       "1       1            1            1     11/1999      DE      11/2000   \n",
       "2       1            1            1     06/1992      JP      05/1993   \n",
       "3       1            1            1     05/1994      GB      05/1995   \n",
       "4       1            1            1     12/1988      DE      11/1989   \n",
       "\n",
       "  FIRST_CLASSE FISRT_APP_COUNTRY FISRT_APP_TYPE FISRT_INV_COUNTRY  \\\n",
       "0     A61K9/48                US       COMPAGNY                GB   \n",
       "1    C08G65/26                DE       COMPAGNY                DE   \n",
       "2    G11B15/07                JP       COMPAGNY                JP   \n",
       "3    F25B41/04                GB       COMPAGNY                GB   \n",
       "4    H01F17/06                DE       COMPAGNY                DE   \n",
       "\n",
       "       ...       cited_age_min  cited_age_std  cited_n  cited_nmiss  \\\n",
       "0      ...                7665            NaN      NaN          NaN   \n",
       "1      ...                7665            NaN      NaN          NaN   \n",
       "2      ...                 256    1188.268558        6            0   \n",
       "3      ...                7665            NaN      NaN          NaN   \n",
       "4      ...                 709    1177.332791        2            0   \n",
       "\n",
       "   index_origin  oecd_NB_BACKWARD_NPL oecd_NB_BACKWARD_PL  \\\n",
       "0            -1                 0.000            0.000000   \n",
       "1            -1                 0.000            0.000000   \n",
       "2            -1                 0.125            0.785714   \n",
       "3            -1                 0.000            0.230769   \n",
       "4            -1                 0.000            0.500000   \n",
       "\n",
       "  oecd_NB_ROOT_CLASSES  pct_NB_IPC  pct_NB_IPC_LY  \n",
       "0             0.142857    0.965563       0.723658  \n",
       "1             0.200000    0.850490       0.697254  \n",
       "2             0.166667    0.933952       0.821558  \n",
       "3             0.400000    0.520361       0.830949  \n",
       "4             0.200000    1.000000       0.634537  \n",
       "\n",
       "[5 rows x 51 columns]"
      ]
     },
     "execution_count": 6,
     "metadata": {},
     "output_type": "execute_result"
    }
   ],
   "source": [
    "df_all = import_data('data/train.csv', 'data/test.csv', 'VARIABLE_CIBLE', na_values='(MISSING)')"
   ]
  },
  {
   "cell_type": "code",
   "execution_count": 7,
   "metadata": {
    "collapsed": true
   },
   "outputs": [],
   "source": [
    "df_all0 = df_all[df_all.SOURCE_CITED_AGE == 'IMPUT']\n",
    "df_all1 = df_all[df_all.SOURCE_CITED_AGE == 'CALC']"
   ]
  },
  {
   "cell_type": "markdown",
   "metadata": {},
   "source": [
    "# --------------------------------------------------------------------------------------"
   ]
  },
  {
   "cell_type": "code",
   "execution_count": 8,
   "metadata": {
    "collapsed": true
   },
   "outputs": [],
   "source": [
    "\n",
    "date_columns = ['PRIORITY_MONTH', 'FILING_MONTH', 'PUBLICATION_MONTH', 'BEGIN_MONTH']"
   ]
  },
  {
   "cell_type": "code",
   "execution_count": 9,
   "metadata": {
    "collapsed": false
   },
   "outputs": [
    {
     "name": "stderr",
     "output_type": "stream",
     "text": [
      "/home/maxime/local/anaconda3/lib/python3.4/site-packages/pandas/core/frame.py:2265: SettingWithCopyWarning: \n",
      "A value is trying to be set on a copy of a slice from a DataFrame.\n",
      "Try using .loc[row_indexer,col_indexer] = value instead\n",
      "\n",
      "See the caveats in the documentation: http://pandas.pydata.org/pandas-docs/stable/indexing.html#indexing-view-versus-copy\n",
      "  self[k1] = value[k2]\n"
     ]
    }
   ],
   "source": [
    "preproc = Preprocessings(date_columns=date_columns)\n",
    "\n",
    "df0 = preproc.datetime_processings(df_all0, format='%m/%Y')\n",
    "df0 = preproc.cat_to_codes(df0)\n",
    "df0 = df0.fillna(df0.median())\n",
    "\n",
    "preproc = Preprocessings(date_columns=date_columns)\n",
    "\n",
    "df1 = preproc.datetime_processings(df_all1, format='%m/%Y')\n",
    "df1 = preproc.cat_to_codes(df1)\n",
    "df1 = df1.fillna(df1.median())"
   ]
  },
  {
   "cell_type": "code",
   "execution_count": 10,
   "metadata": {
    "collapsed": false
   },
   "outputs": [],
   "source": [
    "df0_train, df0_eval = re_split(df0, 'VARIABLE_CIBLE')\n",
    "df1_train, df1_eval = re_split(df1, 'VARIABLE_CIBLE')"
   ]
  },
  {
   "cell_type": "code",
   "execution_count": 11,
   "metadata": {
    "collapsed": false
   },
   "outputs": [
    {
     "name": "stdout",
     "output_type": "stream",
     "text": [
      "(84092, 48)\n",
      "(84092, 37)\n",
      "(45623, 48)\n",
      "(45623, 46)\n"
     ]
    }
   ],
   "source": [
    "keep_feat = Used_features('VARIABLE_CIBLE')\n",
    "\n",
    "print(df0_eval.shape)\n",
    "df0_eval = keep_feat.fit_transform(df0_eval)\n",
    "df0_train = keep_feat.transform(df0_train)\n",
    "print(df0_eval.shape)\n",
    "\n",
    "\n",
    "print(df1_eval.shape)\n",
    "df1_eval = keep_feat.fit_transform(df1_eval)\n",
    "df1_train = keep_feat.transform(df1_train)\n",
    "print(df1_eval.shape)\n",
    "\n"
   ]
  },
  {
   "cell_type": "code",
   "execution_count": 12,
   "metadata": {
    "collapsed": false
   },
   "outputs": [
    {
     "name": "stdout",
     "output_type": "stream",
     "text": [
      "Index(['APP_NB', 'APP_NB_PAYS', 'APP_NB_TYPE', 'COUNTRY', 'FIRST_CLASSE',\n",
      "       'FISRT_APP_COUNTRY', 'FISRT_APP_TYPE', 'FISRT_INV_COUNTRY',\n",
      "       'FISRT_INV_TYPE', 'IDX_ORIGIN', 'IDX_RADIC', 'INV_NB', 'INV_NB_PAYS',\n",
      "       'INV_NB_TYPE', 'LANGUAGE_OF_FILLING', 'MAIN_IPC', 'NB_BACKWARD',\n",
      "       'NB_BACKWARD_AUTRE', 'NB_BACKWARD_I', 'NB_BACKWARD_NPL',\n",
      "       'NB_BACKWARD_PL', 'NB_BACKWARD_XY', 'NB_CLASSES', 'NB_FIELDS',\n",
      "       'NB_ROOT_CLASSES', 'NB_SECTORS', 'SOURCE_BEGIN_MONTH', 'SOURCE_IDX_RAD',\n",
      "       'TECHNOLOGIE_FIELD', 'TECHNOLOGIE_SECTOR', 'VOIE_DEPOT',\n",
      "       'cited_age_max', 'cited_age_mean', 'cited_age_median', 'cited_age_min',\n",
      "       'cited_age_std', 'cited_n', 'index_origin', 'oecd_NB_BACKWARD_NPL',\n",
      "       'oecd_NB_BACKWARD_PL', 'oecd_NB_ROOT_CLASSES', 'pct_NB_IPC',\n",
      "       'pct_NB_IPC_LY', 'filing-begin', 'pub-filing', 'pub_year',\n",
      "       'VARIABLE_CIBLE'],\n",
      "      dtype='object')\n",
      "Index(['APP_NB', 'APP_NB_PAYS', 'APP_NB_TYPE', 'COUNTRY', 'FIRST_CLASSE',\n",
      "       'FISRT_APP_COUNTRY', 'FISRT_APP_TYPE', 'FISRT_INV_COUNTRY',\n",
      "       'FISRT_INV_TYPE', 'IDX_ORIGIN', 'IDX_RADIC', 'INV_NB', 'INV_NB_PAYS',\n",
      "       'INV_NB_TYPE', 'LANGUAGE_OF_FILLING', 'MAIN_IPC', 'NB_BACKWARD',\n",
      "       'NB_BACKWARD_AUTRE', 'NB_BACKWARD_I', 'NB_BACKWARD_NPL',\n",
      "       'NB_BACKWARD_PL', 'NB_BACKWARD_XY', 'NB_CLASSES', 'NB_FIELDS',\n",
      "       'NB_ROOT_CLASSES', 'NB_SECTORS', 'SOURCE_BEGIN_MONTH', 'SOURCE_IDX_RAD',\n",
      "       'TECHNOLOGIE_FIELD', 'TECHNOLOGIE_SECTOR', 'VOIE_DEPOT',\n",
      "       'cited_age_max', 'cited_age_mean', 'cited_age_median', 'cited_age_min',\n",
      "       'cited_age_std', 'cited_n', 'index_origin', 'oecd_NB_BACKWARD_NPL',\n",
      "       'oecd_NB_BACKWARD_PL', 'oecd_NB_ROOT_CLASSES', 'pct_NB_IPC',\n",
      "       'pct_NB_IPC_LY', 'filing-begin', 'pub-filing', 'pub_year'],\n",
      "      dtype='object')\n",
      "Index(['APP_NB', 'APP_NB_PAYS', 'APP_NB_TYPE', 'COUNTRY', 'FIRST_CLASSE',\n",
      "       'FISRT_APP_COUNTRY', 'FISRT_APP_TYPE', 'FISRT_INV_COUNTRY',\n",
      "       'FISRT_INV_TYPE', 'INV_NB', 'INV_NB_PAYS', 'INV_NB_TYPE',\n",
      "       'LANGUAGE_OF_FILLING', 'MAIN_IPC', 'NB_BACKWARD', 'NB_BACKWARD_AUTRE',\n",
      "       'NB_BACKWARD_I', 'NB_BACKWARD_NPL', 'NB_BACKWARD_PL', 'NB_BACKWARD_XY',\n",
      "       'NB_CLASSES', 'NB_FIELDS', 'NB_ROOT_CLASSES', 'NB_SECTORS',\n",
      "       'SOURCE_BEGIN_MONTH', 'TECHNOLOGIE_FIELD', 'TECHNOLOGIE_SECTOR',\n",
      "       'VOIE_DEPOT', 'index_origin', 'oecd_NB_BACKWARD_NPL',\n",
      "       'oecd_NB_BACKWARD_PL', 'oecd_NB_ROOT_CLASSES', 'pct_NB_IPC',\n",
      "       'pct_NB_IPC_LY', 'filing-begin', 'pub-filing', 'pub_year',\n",
      "       'VARIABLE_CIBLE'],\n",
      "      dtype='object')\n",
      "Index(['APP_NB', 'APP_NB_PAYS', 'APP_NB_TYPE', 'COUNTRY', 'FIRST_CLASSE',\n",
      "       'FISRT_APP_COUNTRY', 'FISRT_APP_TYPE', 'FISRT_INV_COUNTRY',\n",
      "       'FISRT_INV_TYPE', 'INV_NB', 'INV_NB_PAYS', 'INV_NB_TYPE',\n",
      "       'LANGUAGE_OF_FILLING', 'MAIN_IPC', 'NB_BACKWARD', 'NB_BACKWARD_AUTRE',\n",
      "       'NB_BACKWARD_I', 'NB_BACKWARD_NPL', 'NB_BACKWARD_PL', 'NB_BACKWARD_XY',\n",
      "       'NB_CLASSES', 'NB_FIELDS', 'NB_ROOT_CLASSES', 'NB_SECTORS',\n",
      "       'SOURCE_BEGIN_MONTH', 'TECHNOLOGIE_FIELD', 'TECHNOLOGIE_SECTOR',\n",
      "       'VOIE_DEPOT', 'index_origin', 'oecd_NB_BACKWARD_NPL',\n",
      "       'oecd_NB_BACKWARD_PL', 'oecd_NB_ROOT_CLASSES', 'pct_NB_IPC',\n",
      "       'pct_NB_IPC_LY', 'filing-begin', 'pub-filing', 'pub_year'],\n",
      "      dtype='object')\n"
     ]
    }
   ],
   "source": [
    "print(df1_train.columns)\n",
    "print(df1_eval.columns)\n"
   ]
  },
  {
   "cell_type": "markdown",
   "metadata": {},
   "source": [
    "# GridSearchCV to find a Benchmark model"
   ]
  },
  {
   "cell_type": "markdown",
   "metadata": {
    "collapsed": true
   },
   "source": [
    "### on df0"
   ]
  },
  {
   "cell_type": "code",
   "execution_count": 60,
   "metadata": {
    "collapsed": true
   },
   "outputs": [],
   "source": [
    "features0 = df0_eval.columns.tolist()\n",
    "features0.remove('index_origin')"
   ]
  },
  {
   "cell_type": "code",
   "execution_count": 15,
   "metadata": {
    "collapsed": false
   },
   "outputs": [
    {
     "name": "stdout",
     "output_type": "stream",
     "text": [
      "['APP_NB', 'APP_NB_PAYS', 'APP_NB_TYPE', 'COUNTRY', 'FIRST_CLASSE', 'FISRT_APP_COUNTRY', 'FISRT_APP_TYPE', 'FISRT_INV_COUNTRY', 'FISRT_INV_TYPE', 'INV_NB', 'INV_NB_PAYS', 'INV_NB_TYPE', 'LANGUAGE_OF_FILLING', 'MAIN_IPC', 'NB_BACKWARD', 'NB_BACKWARD_AUTRE', 'NB_BACKWARD_I', 'NB_BACKWARD_NPL', 'NB_BACKWARD_PL', 'NB_BACKWARD_XY', 'NB_CLASSES', 'NB_FIELDS', 'NB_ROOT_CLASSES', 'NB_SECTORS', 'SOURCE_BEGIN_MONTH', 'TECHNOLOGIE_FIELD', 'TECHNOLOGIE_SECTOR', 'VOIE_DEPOT', 'oecd_NB_BACKWARD_NPL', 'oecd_NB_BACKWARD_PL', 'oecd_NB_ROOT_CLASSES', 'pct_NB_IPC', 'pct_NB_IPC_LY', 'filing-begin', 'pub-filing', 'pub_year']\n",
      "['APP_NB', 'APP_NB_PAYS', 'APP_NB_TYPE', 'COUNTRY', 'FIRST_CLASSE', 'FISRT_APP_COUNTRY', 'FISRT_APP_TYPE', 'FISRT_INV_COUNTRY', 'FISRT_INV_TYPE', 'IDX_ORIGIN', 'IDX_RADIC', 'INV_NB', 'INV_NB_PAYS', 'INV_NB_TYPE', 'LANGUAGE_OF_FILLING', 'MAIN_IPC', 'NB_BACKWARD', 'NB_BACKWARD_AUTRE', 'NB_BACKWARD_I', 'NB_BACKWARD_NPL', 'NB_BACKWARD_PL', 'NB_BACKWARD_XY', 'NB_CLASSES', 'NB_FIELDS', 'NB_ROOT_CLASSES', 'NB_SECTORS', 'SOURCE_BEGIN_MONTH', 'SOURCE_IDX_RAD', 'TECHNOLOGIE_FIELD', 'TECHNOLOGIE_SECTOR', 'VOIE_DEPOT', 'cited_age_max', 'cited_age_mean', 'cited_age_median', 'cited_age_min', 'cited_age_std', 'cited_n', 'oecd_NB_BACKWARD_NPL', 'oecd_NB_BACKWARD_PL', 'oecd_NB_ROOT_CLASSES', 'pct_NB_IPC', 'pct_NB_IPC_LY', 'filing-begin', 'pub-filing', 'pub_year']\n"
     ]
    }
   ],
   "source": [
    "print(features0)\n",
    "print(features1)"
   ]
  },
  {
   "cell_type": "code",
   "execution_count": 16,
   "metadata": {
    "collapsed": false
   },
   "outputs": [
    {
     "name": "stdout",
     "output_type": "stream",
     "text": [
      "Fitting 3 folds for each of 30 candidates, totalling 90 fits\n",
      "[CV] n_estimators=5, class_weight=None ...............................\n",
      "[CV] ...... n_estimators=5, class_weight=None, score=0.609235 -   0.6s\n",
      "[CV] n_estimators=5, class_weight=None ...............................\n",
      "[CV] ...... n_estimators=5, class_weight=None, score=0.605209 -   0.6s\n",
      "[CV] n_estimators=5, class_weight=None ...............................\n",
      "[CV] ...... n_estimators=5, class_weight=None, score=0.606179 -   0.6s\n",
      "[CV] n_estimators=105, class_weight=None .............................\n",
      "[CV] .... n_estimators=105, class_weight=None, score=0.652009 -   7.6s\n",
      "[CV] n_estimators=105, class_weight=None .............................\n",
      "[CV] .... n_estimators=105, class_weight=None, score=0.653565 -   7.0s\n",
      "[CV] n_estimators=105, class_weight=None .............................\n",
      "[CV] .... n_estimators=105, class_weight=None, score=0.650762 -   7.1s\n",
      "[CV] n_estimators=205, class_weight=None .............................\n",
      "[CV] .... n_estimators=205, class_weight=None, score=0.655032 -  13.2s\n",
      "[CV] n_estimators=205, class_weight=None .............................\n",
      "[CV] .... n_estimators=205, class_weight=None, score=0.654979 -  15.1s\n",
      "[CV] n_estimators=205, class_weight=None .............................\n",
      "[CV] .... n_estimators=205, class_weight=None, score=0.653106 -  14.9s\n",
      "[CV] n_estimators=305, class_weight=None .............................\n",
      "[CV] .... n_estimators=305, class_weight=None, score=0.655998 -  20.0s\n",
      "[CV] n_estimators=305, class_weight=None .............................\n",
      "[CV] .... n_estimators=305, class_weight=None, score=0.657447 -  19.3s\n",
      "[CV] n_estimators=305, class_weight=None .............................\n",
      "[CV] .... n_estimators=305, class_weight=None, score=0.654591 -  20.7s\n",
      "[CV] n_estimators=405, class_weight=None .............................\n",
      "[CV] .... n_estimators=405, class_weight=None, score=0.655802 -  28.8s\n",
      "[CV] n_estimators=405, class_weight=None .............................\n",
      "[CV] .... n_estimators=405, class_weight=None, score=0.657251 -  26.7s\n",
      "[CV] n_estimators=405, class_weight=None .............................\n",
      "[CV] .... n_estimators=405, class_weight=None, score=0.654143 -  27.4s\n",
      "[CV] n_estimators=505, class_weight=None .............................\n",
      "[CV] .... n_estimators=505, class_weight=None, score=0.657000 -  33.3s\n",
      "[CV] n_estimators=505, class_weight=None .............................\n",
      "[CV] .... n_estimators=505, class_weight=None, score=0.657251 -  32.2s\n",
      "[CV] n_estimators=505, class_weight=None .............................\n",
      "[CV] .... n_estimators=505, class_weight=None, score=0.654770 -  33.7s\n",
      "[CV] n_estimators=605, class_weight=None .............................\n",
      "[CV] .... n_estimators=605, class_weight=None, score=0.657358 -  41.9s\n",
      "[CV] n_estimators=605, class_weight=None .............................\n",
      "[CV] .... n_estimators=605, class_weight=None, score=0.657555 -  41.2s\n",
      "[CV] n_estimators=605, class_weight=None .............................\n",
      "[CV] .... n_estimators=605, class_weight=None, score=0.655575 -  39.2s\n",
      "[CV] n_estimators=705, class_weight=None .............................\n",
      "[CV] .... n_estimators=705, class_weight=None, score=0.657179 -  47.4s\n",
      "[CV] n_estimators=705, class_weight=None .............................\n",
      "[CV] .... n_estimators=705, class_weight=None, score=0.658074 -  45.8s\n",
      "[CV] n_estimators=705, class_weight=None .............................\n",
      "[CV] .... n_estimators=705, class_weight=None, score=0.655109 -  44.1s\n",
      "[CV] n_estimators=805, class_weight=None .............................\n",
      "[CV] .... n_estimators=805, class_weight=None, score=0.656356 -  54.8s\n",
      "[CV] n_estimators=805, class_weight=None .............................\n",
      "[CV] .... n_estimators=805, class_weight=None, score=0.658968 -  58.5s\n",
      "[CV] n_estimators=805, class_weight=None .............................\n",
      "[CV] .... n_estimators=805, class_weight=None, score=0.654519 -  58.8s\n",
      "[CV] n_estimators=905, class_weight=None .............................\n",
      "[CV] .... n_estimators=905, class_weight=None, score=0.656231 - 1.1min\n",
      "[CV] n_estimators=905, class_weight=None .............................\n",
      "[CV] .... n_estimators=905, class_weight=None, score=0.657859 - 1.1min\n",
      "[CV] n_estimators=905, class_weight=None .............................\n",
      "[CV] .... n_estimators=905, class_weight=None, score=0.655199 - 1.1min\n",
      "[CV] n_estimators=1005, class_weight=None ............................\n",
      "[CV] ... n_estimators=1005, class_weight=None, score=0.656446 - 1.2min\n",
      "[CV] n_estimators=1005, class_weight=None ............................\n",
      "[CV] ... n_estimators=1005, class_weight=None, score=0.657966 - 1.3min\n",
      "[CV] n_estimators=1005, class_weight=None ............................\n",
      "[CV] ... n_estimators=1005, class_weight=None, score=0.655324 - 1.3min\n",
      "[CV] n_estimators=1105, class_weight=None ............................\n",
      "[CV] ... n_estimators=1105, class_weight=None, score=0.655158 - 1.3min\n",
      "[CV] n_estimators=1105, class_weight=None ............................\n",
      "[CV] ... n_estimators=1105, class_weight=None, score=0.658467 - 1.4min\n",
      "[CV] n_estimators=1105, class_weight=None ............................\n",
      "[CV] ... n_estimators=1105, class_weight=None, score=0.654770 - 1.3min\n",
      "[CV] n_estimators=1205, class_weight=None ............................\n",
      "[CV] ... n_estimators=1205, class_weight=None, score=0.656088 - 1.5min\n",
      "[CV] n_estimators=1205, class_weight=None ............................\n",
      "[CV] ... n_estimators=1205, class_weight=None, score=0.657573 - 1.4min\n",
      "[CV] n_estimators=1205, class_weight=None ............................\n",
      "[CV] ... n_estimators=1205, class_weight=None, score=0.655879 - 1.5min\n",
      "[CV] n_estimators=1305, class_weight=None ............................\n",
      "[CV] ... n_estimators=1305, class_weight=None, score=0.657125 - 1.7min\n",
      "[CV] n_estimators=1305, class_weight=None ............................\n",
      "[CV] ... n_estimators=1305, class_weight=None, score=0.658217 - 1.6min\n",
      "[CV] n_estimators=1305, class_weight=None ............................\n",
      "[CV] ... n_estimators=1305, class_weight=None, score=0.655253 - 1.5min\n",
      "[CV] n_estimators=1405, class_weight=None ............................\n",
      "[CV] ... n_estimators=1405, class_weight=None, score=0.657143 - 1.6min\n",
      "[CV] n_estimators=1405, class_weight=None ............................\n",
      "[CV] ... n_estimators=1405, class_weight=None, score=0.658288 - 1.7min\n",
      "[CV] n_estimators=1405, class_weight=None ............................\n",
      "[CV] ... n_estimators=1405, class_weight=None, score=0.655771 - 1.7min\n",
      "[CV] n_estimators=5, class_weight=balanced ..........................."
     ]
    },
    {
     "name": "stderr",
     "output_type": "stream",
     "text": [
      "[Parallel(n_jobs=1)]: Done  31 tasks       | elapsed: 16.9min\n",
      "/home/maxime/local/anaconda3/lib/python3.4/site-packages/sklearn/ensemble/forest.py:452: UserWarning: class_weight presets \"balanced\" or \"balanced_subsample\" are not recommended for warm_start if the fitted data differs from the full dataset. In order to use \"balanced\" weights, use compute_class_weight(\"balanced\", classes, y). In place of y you can use a large enough sample of the full training set target to properly estimate the class frequency distributions. Pass the resulting weights as the class_weight parameter.\n",
      "  warn('class_weight presets \"balanced\" or \"balanced_subsample\" are '\n"
     ]
    },
    {
     "name": "stdout",
     "output_type": "stream",
     "text": [
      "\n",
      "[CV] .. n_estimators=5, class_weight=balanced, score=0.606891 -   0.6s\n",
      "[CV] n_estimators=5, class_weight=balanced ...........................\n",
      "[CV] .. n_estimators=5, class_weight=balanced, score=0.608913 -   0.6s"
     ]
    },
    {
     "name": "stderr",
     "output_type": "stream",
     "text": [
      "/home/maxime/local/anaconda3/lib/python3.4/site-packages/sklearn/ensemble/forest.py:452: UserWarning: class_weight presets \"balanced\" or \"balanced_subsample\" are not recommended for warm_start if the fitted data differs from the full dataset. In order to use \"balanced\" weights, use compute_class_weight(\"balanced\", classes, y). In place of y you can use a large enough sample of the full training set target to properly estimate the class frequency distributions. Pass the resulting weights as the class_weight parameter.\n",
      "  warn('class_weight presets \"balanced\" or \"balanced_subsample\" are '\n",
      "/home/maxime/local/anaconda3/lib/python3.4/site-packages/sklearn/ensemble/forest.py:452: UserWarning: class_weight presets \"balanced\" or \"balanced_subsample\" are not recommended for warm_start if the fitted data differs from the full dataset. In order to use \"balanced\" weights, use compute_class_weight(\"balanced\", classes, y). In place of y you can use a large enough sample of the full training set target to properly estimate the class frequency distributions. Pass the resulting weights as the class_weight parameter.\n",
      "  warn('class_weight presets \"balanced\" or \"balanced_subsample\" are '\n"
     ]
    },
    {
     "name": "stdout",
     "output_type": "stream",
     "text": [
      "\n",
      "[CV] n_estimators=5, class_weight=balanced ...........................\n",
      "[CV] .. n_estimators=5, class_weight=balanced, score=0.605661 -   0.6s\n",
      "[CV] n_estimators=105, class_weight=balanced .........................\n",
      "[CV]  n_estimators=105, class_weight=balanced, score=0.654156 -   7.7s"
     ]
    },
    {
     "name": "stderr",
     "output_type": "stream",
     "text": [
      "/home/maxime/local/anaconda3/lib/python3.4/site-packages/sklearn/ensemble/forest.py:452: UserWarning: class_weight presets \"balanced\" or \"balanced_subsample\" are not recommended for warm_start if the fitted data differs from the full dataset. In order to use \"balanced\" weights, use compute_class_weight(\"balanced\", classes, y). In place of y you can use a large enough sample of the full training set target to properly estimate the class frequency distributions. Pass the resulting weights as the class_weight parameter.\n",
      "  warn('class_weight presets \"balanced\" or \"balanced_subsample\" are '\n",
      "/home/maxime/local/anaconda3/lib/python3.4/site-packages/sklearn/ensemble/forest.py:452: UserWarning: class_weight presets \"balanced\" or \"balanced_subsample\" are not recommended for warm_start if the fitted data differs from the full dataset. In order to use \"balanced\" weights, use compute_class_weight(\"balanced\", classes, y). In place of y you can use a large enough sample of the full training set target to properly estimate the class frequency distributions. Pass the resulting weights as the class_weight parameter.\n",
      "  warn('class_weight presets \"balanced\" or \"balanced_subsample\" are '\n"
     ]
    },
    {
     "name": "stdout",
     "output_type": "stream",
     "text": [
      "\n",
      "[CV] n_estimators=105, class_weight=balanced .........................\n",
      "[CV]  n_estimators=105, class_weight=balanced, score=0.651293 -   7.2s\n",
      "[CV] n_estimators=105, class_weight=balanced .........................\n",
      "[CV]  n_estimators=105, class_weight=balanced, score=0.653911 -   7.8s"
     ]
    },
    {
     "name": "stderr",
     "output_type": "stream",
     "text": [
      "/home/maxime/local/anaconda3/lib/python3.4/site-packages/sklearn/ensemble/forest.py:452: UserWarning: class_weight presets \"balanced\" or \"balanced_subsample\" are not recommended for warm_start if the fitted data differs from the full dataset. In order to use \"balanced\" weights, use compute_class_weight(\"balanced\", classes, y). In place of y you can use a large enough sample of the full training set target to properly estimate the class frequency distributions. Pass the resulting weights as the class_weight parameter.\n",
      "  warn('class_weight presets \"balanced\" or \"balanced_subsample\" are '\n",
      "/home/maxime/local/anaconda3/lib/python3.4/site-packages/sklearn/ensemble/forest.py:452: UserWarning: class_weight presets \"balanced\" or \"balanced_subsample\" are not recommended for warm_start if the fitted data differs from the full dataset. In order to use \"balanced\" weights, use compute_class_weight(\"balanced\", classes, y). In place of y you can use a large enough sample of the full training set target to properly estimate the class frequency distributions. Pass the resulting weights as the class_weight parameter.\n",
      "  warn('class_weight presets \"balanced\" or \"balanced_subsample\" are '\n"
     ]
    },
    {
     "name": "stdout",
     "output_type": "stream",
     "text": [
      "\n",
      "[CV] n_estimators=205, class_weight=balanced .........................\n",
      "[CV]  n_estimators=205, class_weight=balanced, score=0.654961 -  14.5s\n",
      "[CV] n_estimators=205, class_weight=balanced .........................\n",
      "[CV]  n_estimators=205, class_weight=balanced, score=0.656285 -  15.0s"
     ]
    },
    {
     "name": "stderr",
     "output_type": "stream",
     "text": [
      "/home/maxime/local/anaconda3/lib/python3.4/site-packages/sklearn/ensemble/forest.py:452: UserWarning: class_weight presets \"balanced\" or \"balanced_subsample\" are not recommended for warm_start if the fitted data differs from the full dataset. In order to use \"balanced\" weights, use compute_class_weight(\"balanced\", classes, y). In place of y you can use a large enough sample of the full training set target to properly estimate the class frequency distributions. Pass the resulting weights as the class_weight parameter.\n",
      "  warn('class_weight presets \"balanced\" or \"balanced_subsample\" are '\n",
      "/home/maxime/local/anaconda3/lib/python3.4/site-packages/sklearn/ensemble/forest.py:452: UserWarning: class_weight presets \"balanced\" or \"balanced_subsample\" are not recommended for warm_start if the fitted data differs from the full dataset. In order to use \"balanced\" weights, use compute_class_weight(\"balanced\", classes, y). In place of y you can use a large enough sample of the full training set target to properly estimate the class frequency distributions. Pass the resulting weights as the class_weight parameter.\n",
      "  warn('class_weight presets \"balanced\" or \"balanced_subsample\" are '\n"
     ]
    },
    {
     "name": "stdout",
     "output_type": "stream",
     "text": [
      "\n",
      "[CV] n_estimators=205, class_weight=balanced .........................\n",
      "[CV]  n_estimators=205, class_weight=balanced, score=0.653481 -  14.5s\n",
      "[CV] n_estimators=305, class_weight=balanced .........................\n",
      "[CV]  n_estimators=305, class_weight=balanced, score=0.654979 -  22.0s"
     ]
    },
    {
     "name": "stderr",
     "output_type": "stream",
     "text": [
      "/home/maxime/local/anaconda3/lib/python3.4/site-packages/sklearn/ensemble/forest.py:452: UserWarning: class_weight presets \"balanced\" or \"balanced_subsample\" are not recommended for warm_start if the fitted data differs from the full dataset. In order to use \"balanced\" weights, use compute_class_weight(\"balanced\", classes, y). In place of y you can use a large enough sample of the full training set target to properly estimate the class frequency distributions. Pass the resulting weights as the class_weight parameter.\n",
      "  warn('class_weight presets \"balanced\" or \"balanced_subsample\" are '\n",
      "/home/maxime/local/anaconda3/lib/python3.4/site-packages/sklearn/ensemble/forest.py:452: UserWarning: class_weight presets \"balanced\" or \"balanced_subsample\" are not recommended for warm_start if the fitted data differs from the full dataset. In order to use \"balanced\" weights, use compute_class_weight(\"balanced\", classes, y). In place of y you can use a large enough sample of the full training set target to properly estimate the class frequency distributions. Pass the resulting weights as the class_weight parameter.\n",
      "  warn('class_weight presets \"balanced\" or \"balanced_subsample\" are '\n"
     ]
    },
    {
     "name": "stdout",
     "output_type": "stream",
     "text": [
      "\n",
      "[CV] n_estimators=305, class_weight=balanced .........................\n",
      "[CV]  n_estimators=305, class_weight=balanced, score=0.657179 -  20.8s\n",
      "[CV] n_estimators=305, class_weight=balanced .........................\n",
      "[CV]  n_estimators=305, class_weight=balanced, score=0.654984 -  21.6s"
     ]
    },
    {
     "name": "stderr",
     "output_type": "stream",
     "text": [
      "/home/maxime/local/anaconda3/lib/python3.4/site-packages/sklearn/ensemble/forest.py:452: UserWarning: class_weight presets \"balanced\" or \"balanced_subsample\" are not recommended for warm_start if the fitted data differs from the full dataset. In order to use \"balanced\" weights, use compute_class_weight(\"balanced\", classes, y). In place of y you can use a large enough sample of the full training set target to properly estimate the class frequency distributions. Pass the resulting weights as the class_weight parameter.\n",
      "  warn('class_weight presets \"balanced\" or \"balanced_subsample\" are '\n",
      "/home/maxime/local/anaconda3/lib/python3.4/site-packages/sklearn/ensemble/forest.py:452: UserWarning: class_weight presets \"balanced\" or \"balanced_subsample\" are not recommended for warm_start if the fitted data differs from the full dataset. In order to use \"balanced\" weights, use compute_class_weight(\"balanced\", classes, y). In place of y you can use a large enough sample of the full training set target to properly estimate the class frequency distributions. Pass the resulting weights as the class_weight parameter.\n",
      "  warn('class_weight presets \"balanced\" or \"balanced_subsample\" are '\n"
     ]
    },
    {
     "name": "stdout",
     "output_type": "stream",
     "text": [
      "\n",
      "[CV] n_estimators=405, class_weight=balanced .........................\n",
      "[CV]  n_estimators=405, class_weight=balanced, score=0.656768 -  27.7s\n",
      "[CV] n_estimators=405, class_weight=balanced .........................\n",
      "[CV]  n_estimators=405, class_weight=balanced, score=0.657358 -  28.0s"
     ]
    },
    {
     "name": "stderr",
     "output_type": "stream",
     "text": [
      "/home/maxime/local/anaconda3/lib/python3.4/site-packages/sklearn/ensemble/forest.py:452: UserWarning: class_weight presets \"balanced\" or \"balanced_subsample\" are not recommended for warm_start if the fitted data differs from the full dataset. In order to use \"balanced\" weights, use compute_class_weight(\"balanced\", classes, y). In place of y you can use a large enough sample of the full training set target to properly estimate the class frequency distributions. Pass the resulting weights as the class_weight parameter.\n",
      "  warn('class_weight presets \"balanced\" or \"balanced_subsample\" are '\n",
      "/home/maxime/local/anaconda3/lib/python3.4/site-packages/sklearn/ensemble/forest.py:452: UserWarning: class_weight presets \"balanced\" or \"balanced_subsample\" are not recommended for warm_start if the fitted data differs from the full dataset. In order to use \"balanced\" weights, use compute_class_weight(\"balanced\", classes, y). In place of y you can use a large enough sample of the full training set target to properly estimate the class frequency distributions. Pass the resulting weights as the class_weight parameter.\n",
      "  warn('class_weight presets \"balanced\" or \"balanced_subsample\" are '\n"
     ]
    },
    {
     "name": "stdout",
     "output_type": "stream",
     "text": [
      "\n",
      "[CV] n_estimators=405, class_weight=balanced .........................\n",
      "[CV]  n_estimators=405, class_weight=balanced, score=0.654322 -  29.0s\n",
      "[CV] n_estimators=505, class_weight=balanced .........................\n",
      "[CV]  n_estimators=505, class_weight=balanced, score=0.656982 -  35.5s"
     ]
    },
    {
     "name": "stderr",
     "output_type": "stream",
     "text": [
      "/home/maxime/local/anaconda3/lib/python3.4/site-packages/sklearn/ensemble/forest.py:452: UserWarning: class_weight presets \"balanced\" or \"balanced_subsample\" are not recommended for warm_start if the fitted data differs from the full dataset. In order to use \"balanced\" weights, use compute_class_weight(\"balanced\", classes, y). In place of y you can use a large enough sample of the full training set target to properly estimate the class frequency distributions. Pass the resulting weights as the class_weight parameter.\n",
      "  warn('class_weight presets \"balanced\" or \"balanced_subsample\" are '\n",
      "/home/maxime/local/anaconda3/lib/python3.4/site-packages/sklearn/ensemble/forest.py:452: UserWarning: class_weight presets \"balanced\" or \"balanced_subsample\" are not recommended for warm_start if the fitted data differs from the full dataset. In order to use \"balanced\" weights, use compute_class_weight(\"balanced\", classes, y). In place of y you can use a large enough sample of the full training set target to properly estimate the class frequency distributions. Pass the resulting weights as the class_weight parameter.\n",
      "  warn('class_weight presets \"balanced\" or \"balanced_subsample\" are '\n"
     ]
    },
    {
     "name": "stdout",
     "output_type": "stream",
     "text": [
      "\n",
      "[CV] n_estimators=505, class_weight=balanced .........................\n",
      "[CV]  n_estimators=505, class_weight=balanced, score=0.657143 -  35.7s\n",
      "[CV] n_estimators=505, class_weight=balanced .........................\n",
      "[CV]  n_estimators=505, class_weight=balanced, score=0.654430 -  35.7s\n",
      "[CV] n_estimators=605, class_weight=balanced ........................."
     ]
    },
    {
     "name": "stderr",
     "output_type": "stream",
     "text": [
      "/home/maxime/local/anaconda3/lib/python3.4/site-packages/sklearn/ensemble/forest.py:452: UserWarning: class_weight presets \"balanced\" or \"balanced_subsample\" are not recommended for warm_start if the fitted data differs from the full dataset. In order to use \"balanced\" weights, use compute_class_weight(\"balanced\", classes, y). In place of y you can use a large enough sample of the full training set target to properly estimate the class frequency distributions. Pass the resulting weights as the class_weight parameter.\n",
      "  warn('class_weight presets \"balanced\" or \"balanced_subsample\" are '\n",
      "/home/maxime/local/anaconda3/lib/python3.4/site-packages/sklearn/ensemble/forest.py:452: UserWarning: class_weight presets \"balanced\" or \"balanced_subsample\" are not recommended for warm_start if the fitted data differs from the full dataset. In order to use \"balanced\" weights, use compute_class_weight(\"balanced\", classes, y). In place of y you can use a large enough sample of the full training set target to properly estimate the class frequency distributions. Pass the resulting weights as the class_weight parameter.\n",
      "  warn('class_weight presets \"balanced\" or \"balanced_subsample\" are '\n"
     ]
    },
    {
     "name": "stdout",
     "output_type": "stream",
     "text": [
      "\n",
      "[CV]  n_estimators=605, class_weight=balanced, score=0.657233 -  40.4s\n",
      "[CV] n_estimators=605, class_weight=balanced .........................\n",
      "[CV]  n_estimators=605, class_weight=balanced, score=0.657125 -  41.0s"
     ]
    },
    {
     "name": "stderr",
     "output_type": "stream",
     "text": [
      "/home/maxime/local/anaconda3/lib/python3.4/site-packages/sklearn/ensemble/forest.py:452: UserWarning: class_weight presets \"balanced\" or \"balanced_subsample\" are not recommended for warm_start if the fitted data differs from the full dataset. In order to use \"balanced\" weights, use compute_class_weight(\"balanced\", classes, y). In place of y you can use a large enough sample of the full training set target to properly estimate the class frequency distributions. Pass the resulting weights as the class_weight parameter.\n",
      "  warn('class_weight presets \"balanced\" or \"balanced_subsample\" are '\n",
      "/home/maxime/local/anaconda3/lib/python3.4/site-packages/sklearn/ensemble/forest.py:452: UserWarning: class_weight presets \"balanced\" or \"balanced_subsample\" are not recommended for warm_start if the fitted data differs from the full dataset. In order to use \"balanced\" weights, use compute_class_weight(\"balanced\", classes, y). In place of y you can use a large enough sample of the full training set target to properly estimate the class frequency distributions. Pass the resulting weights as the class_weight parameter.\n",
      "  warn('class_weight presets \"balanced\" or \"balanced_subsample\" are '\n"
     ]
    },
    {
     "name": "stdout",
     "output_type": "stream",
     "text": [
      "\n",
      "[CV] n_estimators=605, class_weight=balanced .........................\n",
      "[CV]  n_estimators=605, class_weight=balanced, score=0.654644 -  44.5s\n",
      "[CV] n_estimators=705, class_weight=balanced .........................\n",
      "[CV]  n_estimators=705, class_weight=balanced, score=0.656535 -  49.4s"
     ]
    },
    {
     "name": "stderr",
     "output_type": "stream",
     "text": [
      "/home/maxime/local/anaconda3/lib/python3.4/site-packages/sklearn/ensemble/forest.py:452: UserWarning: class_weight presets \"balanced\" or \"balanced_subsample\" are not recommended for warm_start if the fitted data differs from the full dataset. In order to use \"balanced\" weights, use compute_class_weight(\"balanced\", classes, y). In place of y you can use a large enough sample of the full training set target to properly estimate the class frequency distributions. Pass the resulting weights as the class_weight parameter.\n",
      "  warn('class_weight presets \"balanced\" or \"balanced_subsample\" are '\n",
      "/home/maxime/local/anaconda3/lib/python3.4/site-packages/sklearn/ensemble/forest.py:452: UserWarning: class_weight presets \"balanced\" or \"balanced_subsample\" are not recommended for warm_start if the fitted data differs from the full dataset. In order to use \"balanced\" weights, use compute_class_weight(\"balanced\", classes, y). In place of y you can use a large enough sample of the full training set target to properly estimate the class frequency distributions. Pass the resulting weights as the class_weight parameter.\n",
      "  warn('class_weight presets \"balanced\" or \"balanced_subsample\" are '\n"
     ]
    },
    {
     "name": "stdout",
     "output_type": "stream",
     "text": [
      "\n",
      "[CV] n_estimators=705, class_weight=balanced .........................\n",
      "[CV]  n_estimators=705, class_weight=balanced, score=0.657447 -  50.2s\n",
      "[CV] n_estimators=705, class_weight=balanced .........................\n",
      "[CV]  n_estimators=705, class_weight=balanced, score=0.655306 -  49.8s\n",
      "[CV] n_estimators=805, class_weight=balanced ........................."
     ]
    },
    {
     "name": "stderr",
     "output_type": "stream",
     "text": [
      "/home/maxime/local/anaconda3/lib/python3.4/site-packages/sklearn/ensemble/forest.py:452: UserWarning: class_weight presets \"balanced\" or \"balanced_subsample\" are not recommended for warm_start if the fitted data differs from the full dataset. In order to use \"balanced\" weights, use compute_class_weight(\"balanced\", classes, y). In place of y you can use a large enough sample of the full training set target to properly estimate the class frequency distributions. Pass the resulting weights as the class_weight parameter.\n",
      "  warn('class_weight presets \"balanced\" or \"balanced_subsample\" are '\n",
      "/home/maxime/local/anaconda3/lib/python3.4/site-packages/sklearn/ensemble/forest.py:452: UserWarning: class_weight presets \"balanced\" or \"balanced_subsample\" are not recommended for warm_start if the fitted data differs from the full dataset. In order to use \"balanced\" weights, use compute_class_weight(\"balanced\", classes, y). In place of y you can use a large enough sample of the full training set target to properly estimate the class frequency distributions. Pass the resulting weights as the class_weight parameter.\n",
      "  warn('class_weight presets \"balanced\" or \"balanced_subsample\" are '\n"
     ]
    },
    {
     "name": "stdout",
     "output_type": "stream",
     "text": [
      "\n",
      "[CV]  n_estimators=805, class_weight=balanced, score=0.657090 -  57.0s\n",
      "[CV] n_estimators=805, class_weight=balanced .........................\n",
      "[CV]  n_estimators=805, class_weight=balanced, score=0.657859 -  57.3s\n",
      "[CV] n_estimators=805, class_weight=balanced ........................."
     ]
    },
    {
     "name": "stderr",
     "output_type": "stream",
     "text": [
      "/home/maxime/local/anaconda3/lib/python3.4/site-packages/sklearn/ensemble/forest.py:452: UserWarning: class_weight presets \"balanced\" or \"balanced_subsample\" are not recommended for warm_start if the fitted data differs from the full dataset. In order to use \"balanced\" weights, use compute_class_weight(\"balanced\", classes, y). In place of y you can use a large enough sample of the full training set target to properly estimate the class frequency distributions. Pass the resulting weights as the class_weight parameter.\n",
      "  warn('class_weight presets \"balanced\" or \"balanced_subsample\" are '\n",
      "/home/maxime/local/anaconda3/lib/python3.4/site-packages/sklearn/ensemble/forest.py:452: UserWarning: class_weight presets \"balanced\" or \"balanced_subsample\" are not recommended for warm_start if the fitted data differs from the full dataset. In order to use \"balanced\" weights, use compute_class_weight(\"balanced\", classes, y). In place of y you can use a large enough sample of the full training set target to properly estimate the class frequency distributions. Pass the resulting weights as the class_weight parameter.\n",
      "  warn('class_weight presets \"balanced\" or \"balanced_subsample\" are '\n"
     ]
    },
    {
     "name": "stdout",
     "output_type": "stream",
     "text": [
      "\n",
      "[CV]  n_estimators=805, class_weight=balanced, score=0.654948 -  56.7s\n",
      "[CV] n_estimators=905, class_weight=balanced .........................\n",
      "[CV]  n_estimators=905, class_weight=balanced, score=0.657215 - 1.1min\n",
      "[CV] n_estimators=905, class_weight=balanced ........................."
     ]
    },
    {
     "name": "stderr",
     "output_type": "stream",
     "text": [
      "/home/maxime/local/anaconda3/lib/python3.4/site-packages/sklearn/ensemble/forest.py:452: UserWarning: class_weight presets \"balanced\" or \"balanced_subsample\" are not recommended for warm_start if the fitted data differs from the full dataset. In order to use \"balanced\" weights, use compute_class_weight(\"balanced\", classes, y). In place of y you can use a large enough sample of the full training set target to properly estimate the class frequency distributions. Pass the resulting weights as the class_weight parameter.\n",
      "  warn('class_weight presets \"balanced\" or \"balanced_subsample\" are '\n",
      "/home/maxime/local/anaconda3/lib/python3.4/site-packages/sklearn/ensemble/forest.py:452: UserWarning: class_weight presets \"balanced\" or \"balanced_subsample\" are not recommended for warm_start if the fitted data differs from the full dataset. In order to use \"balanced\" weights, use compute_class_weight(\"balanced\", classes, y). In place of y you can use a large enough sample of the full training set target to properly estimate the class frequency distributions. Pass the resulting weights as the class_weight parameter.\n",
      "  warn('class_weight presets \"balanced\" or \"balanced_subsample\" are '\n"
     ]
    },
    {
     "name": "stdout",
     "output_type": "stream",
     "text": [
      "\n",
      "[CV]  n_estimators=905, class_weight=balanced, score=0.658074 - 1.1min\n",
      "[CV] n_estimators=905, class_weight=balanced .........................\n",
      "[CV]  n_estimators=905, class_weight=balanced, score=0.655127 - 1.1min\n",
      "[CV] n_estimators=1005, class_weight=balanced ........................"
     ]
    },
    {
     "name": "stderr",
     "output_type": "stream",
     "text": [
      "/home/maxime/local/anaconda3/lib/python3.4/site-packages/sklearn/ensemble/forest.py:452: UserWarning: class_weight presets \"balanced\" or \"balanced_subsample\" are not recommended for warm_start if the fitted data differs from the full dataset. In order to use \"balanced\" weights, use compute_class_weight(\"balanced\", classes, y). In place of y you can use a large enough sample of the full training set target to properly estimate the class frequency distributions. Pass the resulting weights as the class_weight parameter.\n",
      "  warn('class_weight presets \"balanced\" or \"balanced_subsample\" are '\n",
      "/home/maxime/local/anaconda3/lib/python3.4/site-packages/sklearn/ensemble/forest.py:452: UserWarning: class_weight presets \"balanced\" or \"balanced_subsample\" are not recommended for warm_start if the fitted data differs from the full dataset. In order to use \"balanced\" weights, use compute_class_weight(\"balanced\", classes, y). In place of y you can use a large enough sample of the full training set target to properly estimate the class frequency distributions. Pass the resulting weights as the class_weight parameter.\n",
      "  warn('class_weight presets \"balanced\" or \"balanced_subsample\" are '\n"
     ]
    },
    {
     "name": "stdout",
     "output_type": "stream",
     "text": [
      "\n",
      "[CV]  n_estimators=1005, class_weight=balanced, score=0.656267 - 1.2min\n",
      "[CV] n_estimators=1005, class_weight=balanced ........................\n",
      "[CV]  n_estimators=1005, class_weight=balanced, score=0.657644 - 1.2min\n",
      "[CV] n_estimators=1005, class_weight=balanced ........................"
     ]
    },
    {
     "name": "stderr",
     "output_type": "stream",
     "text": [
      "/home/maxime/local/anaconda3/lib/python3.4/site-packages/sklearn/ensemble/forest.py:452: UserWarning: class_weight presets \"balanced\" or \"balanced_subsample\" are not recommended for warm_start if the fitted data differs from the full dataset. In order to use \"balanced\" weights, use compute_class_weight(\"balanced\", classes, y). In place of y you can use a large enough sample of the full training set target to properly estimate the class frequency distributions. Pass the resulting weights as the class_weight parameter.\n",
      "  warn('class_weight presets \"balanced\" or \"balanced_subsample\" are '\n",
      "/home/maxime/local/anaconda3/lib/python3.4/site-packages/sklearn/ensemble/forest.py:452: UserWarning: class_weight presets \"balanced\" or \"balanced_subsample\" are not recommended for warm_start if the fitted data differs from the full dataset. In order to use \"balanced\" weights, use compute_class_weight(\"balanced\", classes, y). In place of y you can use a large enough sample of the full training set target to properly estimate the class frequency distributions. Pass the resulting weights as the class_weight parameter.\n",
      "  warn('class_weight presets \"balanced\" or \"balanced_subsample\" are '\n"
     ]
    },
    {
     "name": "stdout",
     "output_type": "stream",
     "text": [
      "\n",
      "[CV]  n_estimators=1005, class_weight=balanced, score=0.655163 - 1.1min\n",
      "[CV] n_estimators=1105, class_weight=balanced ........................\n",
      "[CV]  n_estimators=1105, class_weight=balanced, score=0.657054 - 1.3min\n",
      "[CV] n_estimators=1105, class_weight=balanced ........................"
     ]
    },
    {
     "name": "stderr",
     "output_type": "stream",
     "text": [
      "/home/maxime/local/anaconda3/lib/python3.4/site-packages/sklearn/ensemble/forest.py:452: UserWarning: class_weight presets \"balanced\" or \"balanced_subsample\" are not recommended for warm_start if the fitted data differs from the full dataset. In order to use \"balanced\" weights, use compute_class_weight(\"balanced\", classes, y). In place of y you can use a large enough sample of the full training set target to properly estimate the class frequency distributions. Pass the resulting weights as the class_weight parameter.\n",
      "  warn('class_weight presets \"balanced\" or \"balanced_subsample\" are '\n",
      "/home/maxime/local/anaconda3/lib/python3.4/site-packages/sklearn/ensemble/forest.py:452: UserWarning: class_weight presets \"balanced\" or \"balanced_subsample\" are not recommended for warm_start if the fitted data differs from the full dataset. In order to use \"balanced\" weights, use compute_class_weight(\"balanced\", classes, y). In place of y you can use a large enough sample of the full training set target to properly estimate the class frequency distributions. Pass the resulting weights as the class_weight parameter.\n",
      "  warn('class_weight presets \"balanced\" or \"balanced_subsample\" are '\n"
     ]
    },
    {
     "name": "stdout",
     "output_type": "stream",
     "text": [
      "\n",
      "[CV]  n_estimators=1105, class_weight=balanced, score=0.657859 - 1.3min\n",
      "[CV] n_estimators=1105, class_weight=balanced ........................\n",
      "[CV]  n_estimators=1105, class_weight=balanced, score=0.655342 - 1.2min\n",
      "[CV] n_estimators=1205, class_weight=balanced ........................"
     ]
    },
    {
     "name": "stderr",
     "output_type": "stream",
     "text": [
      "/home/maxime/local/anaconda3/lib/python3.4/site-packages/sklearn/ensemble/forest.py:452: UserWarning: class_weight presets \"balanced\" or \"balanced_subsample\" are not recommended for warm_start if the fitted data differs from the full dataset. In order to use \"balanced\" weights, use compute_class_weight(\"balanced\", classes, y). In place of y you can use a large enough sample of the full training set target to properly estimate the class frequency distributions. Pass the resulting weights as the class_weight parameter.\n",
      "  warn('class_weight presets \"balanced\" or \"balanced_subsample\" are '\n",
      "/home/maxime/local/anaconda3/lib/python3.4/site-packages/sklearn/ensemble/forest.py:452: UserWarning: class_weight presets \"balanced\" or \"balanced_subsample\" are not recommended for warm_start if the fitted data differs from the full dataset. In order to use \"balanced\" weights, use compute_class_weight(\"balanced\", classes, y). In place of y you can use a large enough sample of the full training set target to properly estimate the class frequency distributions. Pass the resulting weights as the class_weight parameter.\n",
      "  warn('class_weight presets \"balanced\" or \"balanced_subsample\" are '\n"
     ]
    },
    {
     "name": "stdout",
     "output_type": "stream",
     "text": [
      "\n",
      "[CV]  n_estimators=1205, class_weight=balanced, score=0.657841 - 1.4min\n",
      "[CV] n_estimators=1205, class_weight=balanced ........................\n",
      "[CV]  n_estimators=1205, class_weight=balanced, score=0.657537 - 1.4min\n",
      "[CV] n_estimators=1205, class_weight=balanced ........................"
     ]
    },
    {
     "name": "stderr",
     "output_type": "stream",
     "text": [
      "/home/maxime/local/anaconda3/lib/python3.4/site-packages/sklearn/ensemble/forest.py:452: UserWarning: class_weight presets \"balanced\" or \"balanced_subsample\" are not recommended for warm_start if the fitted data differs from the full dataset. In order to use \"balanced\" weights, use compute_class_weight(\"balanced\", classes, y). In place of y you can use a large enough sample of the full training set target to properly estimate the class frequency distributions. Pass the resulting weights as the class_weight parameter.\n",
      "  warn('class_weight presets \"balanced\" or \"balanced_subsample\" are '\n",
      "/home/maxime/local/anaconda3/lib/python3.4/site-packages/sklearn/ensemble/forest.py:452: UserWarning: class_weight presets \"balanced\" or \"balanced_subsample\" are not recommended for warm_start if the fitted data differs from the full dataset. In order to use \"balanced\" weights, use compute_class_weight(\"balanced\", classes, y). In place of y you can use a large enough sample of the full training set target to properly estimate the class frequency distributions. Pass the resulting weights as the class_weight parameter.\n",
      "  warn('class_weight presets \"balanced\" or \"balanced_subsample\" are '\n"
     ]
    },
    {
     "name": "stdout",
     "output_type": "stream",
     "text": [
      "\n",
      "[CV]  n_estimators=1205, class_weight=balanced, score=0.656147 - 1.4min\n",
      "[CV] n_estimators=1305, class_weight=balanced ........................\n",
      "[CV]  n_estimators=1305, class_weight=balanced, score=0.657465 - 1.5min\n",
      "[CV] n_estimators=1305, class_weight=balanced ........................"
     ]
    },
    {
     "name": "stderr",
     "output_type": "stream",
     "text": [
      "/home/maxime/local/anaconda3/lib/python3.4/site-packages/sklearn/ensemble/forest.py:452: UserWarning: class_weight presets \"balanced\" or \"balanced_subsample\" are not recommended for warm_start if the fitted data differs from the full dataset. In order to use \"balanced\" weights, use compute_class_weight(\"balanced\", classes, y). In place of y you can use a large enough sample of the full training set target to properly estimate the class frequency distributions. Pass the resulting weights as the class_weight parameter.\n",
      "  warn('class_weight presets \"balanced\" or \"balanced_subsample\" are '\n",
      "/home/maxime/local/anaconda3/lib/python3.4/site-packages/sklearn/ensemble/forest.py:452: UserWarning: class_weight presets \"balanced\" or \"balanced_subsample\" are not recommended for warm_start if the fitted data differs from the full dataset. In order to use \"balanced\" weights, use compute_class_weight(\"balanced\", classes, y). In place of y you can use a large enough sample of the full training set target to properly estimate the class frequency distributions. Pass the resulting weights as the class_weight parameter.\n",
      "  warn('class_weight presets \"balanced\" or \"balanced_subsample\" are '\n"
     ]
    },
    {
     "name": "stdout",
     "output_type": "stream",
     "text": [
      "\n",
      "[CV]  n_estimators=1305, class_weight=balanced, score=0.658753 - 1.5min\n",
      "[CV] n_estimators=1305, class_weight=balanced ........................\n",
      "[CV]  n_estimators=1305, class_weight=balanced, score=0.655432 - 1.5min\n",
      "[CV] n_estimators=1405, class_weight=balanced ........................"
     ]
    },
    {
     "name": "stderr",
     "output_type": "stream",
     "text": [
      "/home/maxime/local/anaconda3/lib/python3.4/site-packages/sklearn/ensemble/forest.py:452: UserWarning: class_weight presets \"balanced\" or \"balanced_subsample\" are not recommended for warm_start if the fitted data differs from the full dataset. In order to use \"balanced\" weights, use compute_class_weight(\"balanced\", classes, y). In place of y you can use a large enough sample of the full training set target to properly estimate the class frequency distributions. Pass the resulting weights as the class_weight parameter.\n",
      "  warn('class_weight presets \"balanced\" or \"balanced_subsample\" are '\n",
      "/home/maxime/local/anaconda3/lib/python3.4/site-packages/sklearn/ensemble/forest.py:452: UserWarning: class_weight presets \"balanced\" or \"balanced_subsample\" are not recommended for warm_start if the fitted data differs from the full dataset. In order to use \"balanced\" weights, use compute_class_weight(\"balanced\", classes, y). In place of y you can use a large enough sample of the full training set target to properly estimate the class frequency distributions. Pass the resulting weights as the class_weight parameter.\n",
      "  warn('class_weight presets \"balanced\" or \"balanced_subsample\" are '\n"
     ]
    },
    {
     "name": "stdout",
     "output_type": "stream",
     "text": [
      "\n",
      "[CV]  n_estimators=1405, class_weight=balanced, score=0.657233 - 1.6min\n",
      "[CV] n_estimators=1405, class_weight=balanced ........................\n",
      "[CV]  n_estimators=1405, class_weight=balanced, score=0.657090 - 1.6min\n",
      "[CV] n_estimators=1405, class_weight=balanced ........................"
     ]
    },
    {
     "name": "stderr",
     "output_type": "stream",
     "text": [
      "/home/maxime/local/anaconda3/lib/python3.4/site-packages/sklearn/ensemble/forest.py:452: UserWarning: class_weight presets \"balanced\" or \"balanced_subsample\" are not recommended for warm_start if the fitted data differs from the full dataset. In order to use \"balanced\" weights, use compute_class_weight(\"balanced\", classes, y). In place of y you can use a large enough sample of the full training set target to properly estimate the class frequency distributions. Pass the resulting weights as the class_weight parameter.\n",
      "  warn('class_weight presets \"balanced\" or \"balanced_subsample\" are '\n",
      "/home/maxime/local/anaconda3/lib/python3.4/site-packages/sklearn/ensemble/forest.py:452: UserWarning: class_weight presets \"balanced\" or \"balanced_subsample\" are not recommended for warm_start if the fitted data differs from the full dataset. In order to use \"balanced\" weights, use compute_class_weight(\"balanced\", classes, y). In place of y you can use a large enough sample of the full training set target to properly estimate the class frequency distributions. Pass the resulting weights as the class_weight parameter.\n",
      "  warn('class_weight presets \"balanced\" or \"balanced_subsample\" are '\n"
     ]
    },
    {
     "name": "stdout",
     "output_type": "stream",
     "text": [
      "\n",
      "[CV]  n_estimators=1405, class_weight=balanced, score=0.655145 - 1.6min\n"
     ]
    },
    {
     "name": "stderr",
     "output_type": "stream",
     "text": [
      "[Parallel(n_jobs=1)]: Done  90 out of  90 | elapsed: 74.8min finished\n",
      "/home/maxime/local/anaconda3/lib/python3.4/site-packages/sklearn/ensemble/forest.py:452: UserWarning: class_weight presets \"balanced\" or \"balanced_subsample\" are not recommended for warm_start if the fitted data differs from the full dataset. In order to use \"balanced\" weights, use compute_class_weight(\"balanced\", classes, y). In place of y you can use a large enough sample of the full training set target to properly estimate the class frequency distributions. Pass the resulting weights as the class_weight parameter.\n",
      "  warn('class_weight presets \"balanced\" or \"balanced_subsample\" are '\n"
     ]
    },
    {
     "data": {
      "text/plain": [
       "GridSearchCV(cv=None, error_score='raise',\n",
       "       estimator=RandomForestClassifier(bootstrap=True, class_weight=None, criterion='gini',\n",
       "            max_depth=None, max_features='auto', max_leaf_nodes=None,\n",
       "            min_samples_leaf=1, min_samples_split=1,\n",
       "            min_weight_fraction_leaf=0.0, n_estimators=10, n_jobs=6,\n",
       "            oob_score=False, random_state=None, verbose=0, warm_start=True),\n",
       "       fit_params={}, iid=True, n_jobs=1,\n",
       "       param_grid={'n_estimators': array([   5,  105,  205,  305,  405,  505,  605,  705,  805,  905, 1005,\n",
       "       1105, 1205, 1305, 1405]), 'class_weight': [None, 'balanced']},\n",
       "       pre_dispatch='2*n_jobs', refit=True, scoring=None, verbose=3)"
      ]
     },
     "execution_count": 16,
     "metadata": {},
     "output_type": "execute_result"
    }
   ],
   "source": [
    "params = {'n_estimators':np.arange(5,1500,100), 'class_weight':[None, 'balanced']}\n",
    "\n",
    "est = RandomForestClassifier(n_jobs=6, min_samples_split=1, max_depth=None, warm_start=True)\n",
    "\n",
    "clf0 = GridSearchCV(estimator=est, param_grid=params, verbose=3, scoring='roc_auc')\n",
    "\n",
    "clf0.fit(df0_train[features0], df0_train['VARIABLE_CIBLE'])"
   ]
  },
  {
   "cell_type": "code",
   "execution_count": 18,
   "metadata": {
    "collapsed": false
   },
   "outputs": [
    {
     "name": "stdout",
     "output_type": "stream",
     "text": [
      "{'n_estimators': 1305, 'class_weight': 'balanced'}\n",
      "0.657216802233\n"
     ]
    }
   ],
   "source": [
    "print(clf.best_params_)\n",
    "print(clf.best_score_)"
   ]
  },
  {
   "cell_type": "markdown",
   "metadata": {},
   "source": [
    "Benchmark model : \n",
    " - Tout les features : GridSearchCV results: {'n_estimators': 1305, 'class_weight': 'balanced'}, score (pas roc_auc): 0.657216802233 --roc_auc: ~0.696\n",
    " \n"
   ]
  },
  {
   "cell_type": "markdown",
   "metadata": {},
   "source": [
    "### on df1"
   ]
  },
  {
   "cell_type": "code",
   "execution_count": 13,
   "metadata": {
    "collapsed": false
   },
   "outputs": [
    {
     "name": "stdout",
     "output_type": "stream",
     "text": [
      "Fitting 3 folds for each of 30 candidates, totalling 90 fits\n",
      "[CV] class_weight=None, n_estimators=5 ...............................\n",
      "[CV] ...... class_weight=None, n_estimators=5, score=0.604850 -   0.5s\n",
      "[CV] class_weight=None, n_estimators=5 ...............................\n",
      "[CV] ...... class_weight=None, n_estimators=5, score=0.608837 -   0.5s\n",
      "[CV] class_weight=None, n_estimators=5 ...............................\n",
      "[CV] ...... class_weight=None, n_estimators=5, score=0.613790 -   0.5s\n",
      "[CV] class_weight=None, n_estimators=105 .............................\n",
      "[CV] .... class_weight=None, n_estimators=105, score=0.681772 -   4.8s\n",
      "[CV] class_weight=None, n_estimators=105 .............................\n",
      "[CV] .... class_weight=None, n_estimators=105, score=0.682811 -   4.6s\n",
      "[CV] class_weight=None, n_estimators=105 .............................\n",
      "[CV] .... class_weight=None, n_estimators=105, score=0.686676 -   4.7s\n",
      "[CV] class_weight=None, n_estimators=205 .............................\n",
      "[CV] .... class_weight=None, n_estimators=205, score=0.684587 -   9.2s\n",
      "[CV] class_weight=None, n_estimators=205 .............................\n",
      "[CV] .... class_weight=None, n_estimators=205, score=0.686004 -   9.2s\n",
      "[CV] class_weight=None, n_estimators=205 .............................\n",
      "[CV] .... class_weight=None, n_estimators=205, score=0.693107 -   8.3s\n",
      "[CV] class_weight=None, n_estimators=305 .............................\n",
      "[CV] .... class_weight=None, n_estimators=305, score=0.687048 -  12.8s\n",
      "[CV] class_weight=None, n_estimators=305 .............................\n",
      "[CV] .... class_weight=None, n_estimators=305, score=0.686845 -  12.6s\n",
      "[CV] class_weight=None, n_estimators=305 .............................\n",
      "[CV] .... class_weight=None, n_estimators=305, score=0.691580 -  13.1s\n",
      "[CV] class_weight=None, n_estimators=405 .............................\n",
      "[CV] .... class_weight=None, n_estimators=405, score=0.687596 -  18.1s\n",
      "[CV] class_weight=None, n_estimators=405 .............................\n",
      "[CV] .... class_weight=None, n_estimators=405, score=0.688578 -  17.9s\n",
      "[CV] class_weight=None, n_estimators=405 .............................\n",
      "[CV] .... class_weight=None, n_estimators=405, score=0.692303 -  17.5s\n",
      "[CV] class_weight=None, n_estimators=505 .............................\n",
      "[CV] .... class_weight=None, n_estimators=505, score=0.688415 -  21.6s\n",
      "[CV] class_weight=None, n_estimators=505 .............................\n",
      "[CV] .... class_weight=None, n_estimators=505, score=0.688171 -  21.2s\n",
      "[CV] class_weight=None, n_estimators=505 .............................\n",
      "[CV] .... class_weight=None, n_estimators=505, score=0.693334 -  22.5s\n",
      "[CV] class_weight=None, n_estimators=605 .............................\n",
      "[CV] .... class_weight=None, n_estimators=605, score=0.688812 -  25.2s\n",
      "[CV] class_weight=None, n_estimators=605 .............................\n",
      "[CV] .... class_weight=None, n_estimators=605, score=0.689867 -  26.4s\n",
      "[CV] class_weight=None, n_estimators=605 .............................\n",
      "[CV] .... class_weight=None, n_estimators=605, score=0.693570 -  26.5s\n",
      "[CV] class_weight=None, n_estimators=705 .............................\n",
      "[CV] .... class_weight=None, n_estimators=705, score=0.689149 -  31.4s\n",
      "[CV] class_weight=None, n_estimators=705 .............................\n",
      "[CV] .... class_weight=None, n_estimators=705, score=0.689047 -  31.7s\n",
      "[CV] class_weight=None, n_estimators=705 .............................\n",
      "[CV] .... class_weight=None, n_estimators=705, score=0.692884 -  31.1s\n",
      "[CV] class_weight=None, n_estimators=805 .............................\n",
      "[CV] .... class_weight=None, n_estimators=805, score=0.688119 -  36.8s\n",
      "[CV] class_weight=None, n_estimators=805 .............................\n",
      "[CV] .... class_weight=None, n_estimators=805, score=0.689442 -  35.3s\n",
      "[CV] class_weight=None, n_estimators=805 .............................\n",
      "[CV] .... class_weight=None, n_estimators=805, score=0.693225 -  37.0s\n",
      "[CV] class_weight=None, n_estimators=905 .............................\n",
      "[CV] .... class_weight=None, n_estimators=905, score=0.689102 -  40.1s\n",
      "[CV] class_weight=None, n_estimators=905 .............................\n",
      "[CV] .... class_weight=None, n_estimators=905, score=0.689455 -  41.2s\n",
      "[CV] class_weight=None, n_estimators=905 .............................\n",
      "[CV] .... class_weight=None, n_estimators=905, score=0.693320 -  38.4s\n",
      "[CV] class_weight=None, n_estimators=1005 ............................\n",
      "[CV] ... class_weight=None, n_estimators=1005, score=0.688697 -  43.1s\n",
      "[CV] class_weight=None, n_estimators=1005 ............................\n",
      "[CV] ... class_weight=None, n_estimators=1005, score=0.689741 -  42.9s\n",
      "[CV] class_weight=None, n_estimators=1005 ............................\n",
      "[CV] ... class_weight=None, n_estimators=1005, score=0.693925 -  43.4s\n",
      "[CV] class_weight=None, n_estimators=1105 ............................\n",
      "[CV] ... class_weight=None, n_estimators=1105, score=0.689452 -  48.6s\n",
      "[CV] class_weight=None, n_estimators=1105 ............................\n",
      "[CV] ... class_weight=None, n_estimators=1105, score=0.689884 -  51.8s\n",
      "[CV] class_weight=None, n_estimators=1105 ............................\n",
      "[CV] ... class_weight=None, n_estimators=1105, score=0.694593 -  48.0s\n",
      "[CV] class_weight=None, n_estimators=1205 ............................\n",
      "[CV] ... class_weight=None, n_estimators=1205, score=0.688928 -  54.1s\n",
      "[CV] class_weight=None, n_estimators=1205 ............................\n",
      "[CV] ... class_weight=None, n_estimators=1205, score=0.690236 -  53.6s\n",
      "[CV] class_weight=None, n_estimators=1205 ............................\n",
      "[CV] ... class_weight=None, n_estimators=1205, score=0.694229 -  52.2s\n",
      "[CV] class_weight=None, n_estimators=1305 ............................\n",
      "[CV] ... class_weight=None, n_estimators=1305, score=0.689572 -  58.4s\n",
      "[CV] class_weight=None, n_estimators=1305 ............................\n",
      "[CV] ... class_weight=None, n_estimators=1305, score=0.690469 -  56.4s\n",
      "[CV] class_weight=None, n_estimators=1305 ............................\n",
      "[CV] ... class_weight=None, n_estimators=1305, score=0.694295 -  54.5s\n",
      "[CV] class_weight=None, n_estimators=1405 ............................\n",
      "[CV] ... class_weight=None, n_estimators=1405, score=0.689951 - 1.0min\n",
      "[CV] class_weight=None, n_estimators=1405 ............................\n",
      "[CV] ... class_weight=None, n_estimators=1405, score=0.689756 -  59.7s\n",
      "[CV] class_weight=None, n_estimators=1405 ............................\n",
      "[CV] ... class_weight=None, n_estimators=1405, score=0.693782 - 1.0min"
     ]
    },
    {
     "name": "stderr",
     "output_type": "stream",
     "text": [
      "[Parallel(n_jobs=1)]: Done  31 tasks       | elapsed: 10.7min\n",
      "/home/maxime/local/anaconda3/lib/python3.4/site-packages/sklearn/ensemble/forest.py:452: UserWarning: class_weight presets \"balanced\" or \"balanced_subsample\" are not recommended for warm_start if the fitted data differs from the full dataset. In order to use \"balanced\" weights, use compute_class_weight(\"balanced\", classes, y). In place of y you can use a large enough sample of the full training set target to properly estimate the class frequency distributions. Pass the resulting weights as the class_weight parameter.\n",
      "  warn('class_weight presets \"balanced\" or \"balanced_subsample\" are '\n"
     ]
    },
    {
     "name": "stdout",
     "output_type": "stream",
     "text": [
      "\n",
      "[CV] class_weight=balanced, n_estimators=5 ...........................\n",
      "[CV] .. class_weight=balanced, n_estimators=5, score=0.603751 -   0.5s\n",
      "[CV] class_weight=balanced, n_estimators=5 ...........................\n",
      "[CV] .. class_weight=balanced, n_estimators=5, score=0.609428 -   0.5s"
     ]
    },
    {
     "name": "stderr",
     "output_type": "stream",
     "text": [
      "/home/maxime/local/anaconda3/lib/python3.4/site-packages/sklearn/ensemble/forest.py:452: UserWarning: class_weight presets \"balanced\" or \"balanced_subsample\" are not recommended for warm_start if the fitted data differs from the full dataset. In order to use \"balanced\" weights, use compute_class_weight(\"balanced\", classes, y). In place of y you can use a large enough sample of the full training set target to properly estimate the class frequency distributions. Pass the resulting weights as the class_weight parameter.\n",
      "  warn('class_weight presets \"balanced\" or \"balanced_subsample\" are '\n",
      "/home/maxime/local/anaconda3/lib/python3.4/site-packages/sklearn/ensemble/forest.py:452: UserWarning: class_weight presets \"balanced\" or \"balanced_subsample\" are not recommended for warm_start if the fitted data differs from the full dataset. In order to use \"balanced\" weights, use compute_class_weight(\"balanced\", classes, y). In place of y you can use a large enough sample of the full training set target to properly estimate the class frequency distributions. Pass the resulting weights as the class_weight parameter.\n",
      "  warn('class_weight presets \"balanced\" or \"balanced_subsample\" are '\n"
     ]
    },
    {
     "name": "stdout",
     "output_type": "stream",
     "text": [
      "\n",
      "[CV] class_weight=balanced, n_estimators=5 ...........................\n",
      "[CV] .. class_weight=balanced, n_estimators=5, score=0.608847 -   0.5s\n",
      "[CV] class_weight=balanced, n_estimators=105 .........................\n",
      "[CV]  class_weight=balanced, n_estimators=105, score=0.681871 -   4.7s"
     ]
    },
    {
     "name": "stderr",
     "output_type": "stream",
     "text": [
      "/home/maxime/local/anaconda3/lib/python3.4/site-packages/sklearn/ensemble/forest.py:452: UserWarning: class_weight presets \"balanced\" or \"balanced_subsample\" are not recommended for warm_start if the fitted data differs from the full dataset. In order to use \"balanced\" weights, use compute_class_weight(\"balanced\", classes, y). In place of y you can use a large enough sample of the full training set target to properly estimate the class frequency distributions. Pass the resulting weights as the class_weight parameter.\n",
      "  warn('class_weight presets \"balanced\" or \"balanced_subsample\" are '\n",
      "/home/maxime/local/anaconda3/lib/python3.4/site-packages/sklearn/ensemble/forest.py:452: UserWarning: class_weight presets \"balanced\" or \"balanced_subsample\" are not recommended for warm_start if the fitted data differs from the full dataset. In order to use \"balanced\" weights, use compute_class_weight(\"balanced\", classes, y). In place of y you can use a large enough sample of the full training set target to properly estimate the class frequency distributions. Pass the resulting weights as the class_weight parameter.\n",
      "  warn('class_weight presets \"balanced\" or \"balanced_subsample\" are '\n"
     ]
    },
    {
     "name": "stdout",
     "output_type": "stream",
     "text": [
      "\n",
      "[CV] class_weight=balanced, n_estimators=105 .........................\n",
      "[CV]  class_weight=balanced, n_estimators=105, score=0.680469 -   4.7s\n",
      "[CV] class_weight=balanced, n_estimators=105 .........................\n",
      "[CV]  class_weight=balanced, n_estimators=105, score=0.684884 -   4.8s"
     ]
    },
    {
     "name": "stderr",
     "output_type": "stream",
     "text": [
      "/home/maxime/local/anaconda3/lib/python3.4/site-packages/sklearn/ensemble/forest.py:452: UserWarning: class_weight presets \"balanced\" or \"balanced_subsample\" are not recommended for warm_start if the fitted data differs from the full dataset. In order to use \"balanced\" weights, use compute_class_weight(\"balanced\", classes, y). In place of y you can use a large enough sample of the full training set target to properly estimate the class frequency distributions. Pass the resulting weights as the class_weight parameter.\n",
      "  warn('class_weight presets \"balanced\" or \"balanced_subsample\" are '\n",
      "/home/maxime/local/anaconda3/lib/python3.4/site-packages/sklearn/ensemble/forest.py:452: UserWarning: class_weight presets \"balanced\" or \"balanced_subsample\" are not recommended for warm_start if the fitted data differs from the full dataset. In order to use \"balanced\" weights, use compute_class_weight(\"balanced\", classes, y). In place of y you can use a large enough sample of the full training set target to properly estimate the class frequency distributions. Pass the resulting weights as the class_weight parameter.\n",
      "  warn('class_weight presets \"balanced\" or \"balanced_subsample\" are '\n"
     ]
    },
    {
     "name": "stdout",
     "output_type": "stream",
     "text": [
      "\n",
      "[CV] class_weight=balanced, n_estimators=205 .........................\n",
      "[CV]  class_weight=balanced, n_estimators=205, score=0.685239 -   8.8s\n",
      "[CV] class_weight=balanced, n_estimators=205 .........................\n",
      "[CV]  class_weight=balanced, n_estimators=205, score=0.687474 -   8.9s"
     ]
    },
    {
     "name": "stderr",
     "output_type": "stream",
     "text": [
      "/home/maxime/local/anaconda3/lib/python3.4/site-packages/sklearn/ensemble/forest.py:452: UserWarning: class_weight presets \"balanced\" or \"balanced_subsample\" are not recommended for warm_start if the fitted data differs from the full dataset. In order to use \"balanced\" weights, use compute_class_weight(\"balanced\", classes, y). In place of y you can use a large enough sample of the full training set target to properly estimate the class frequency distributions. Pass the resulting weights as the class_weight parameter.\n",
      "  warn('class_weight presets \"balanced\" or \"balanced_subsample\" are '\n",
      "/home/maxime/local/anaconda3/lib/python3.4/site-packages/sklearn/ensemble/forest.py:452: UserWarning: class_weight presets \"balanced\" or \"balanced_subsample\" are not recommended for warm_start if the fitted data differs from the full dataset. In order to use \"balanced\" weights, use compute_class_weight(\"balanced\", classes, y). In place of y you can use a large enough sample of the full training set target to properly estimate the class frequency distributions. Pass the resulting weights as the class_weight parameter.\n",
      "  warn('class_weight presets \"balanced\" or \"balanced_subsample\" are '\n"
     ]
    },
    {
     "name": "stdout",
     "output_type": "stream",
     "text": [
      "\n",
      "[CV] class_weight=balanced, n_estimators=205 .........................\n",
      "[CV]  class_weight=balanced, n_estimators=205, score=0.690742 -   8.3s\n",
      "[CV] class_weight=balanced, n_estimators=305 .........................\n",
      "[CV]  class_weight=balanced, n_estimators=305, score=0.687616 -  13.1s"
     ]
    },
    {
     "name": "stderr",
     "output_type": "stream",
     "text": [
      "/home/maxime/local/anaconda3/lib/python3.4/site-packages/sklearn/ensemble/forest.py:452: UserWarning: class_weight presets \"balanced\" or \"balanced_subsample\" are not recommended for warm_start if the fitted data differs from the full dataset. In order to use \"balanced\" weights, use compute_class_weight(\"balanced\", classes, y). In place of y you can use a large enough sample of the full training set target to properly estimate the class frequency distributions. Pass the resulting weights as the class_weight parameter.\n",
      "  warn('class_weight presets \"balanced\" or \"balanced_subsample\" are '\n",
      "/home/maxime/local/anaconda3/lib/python3.4/site-packages/sklearn/ensemble/forest.py:452: UserWarning: class_weight presets \"balanced\" or \"balanced_subsample\" are not recommended for warm_start if the fitted data differs from the full dataset. In order to use \"balanced\" weights, use compute_class_weight(\"balanced\", classes, y). In place of y you can use a large enough sample of the full training set target to properly estimate the class frequency distributions. Pass the resulting weights as the class_weight parameter.\n",
      "  warn('class_weight presets \"balanced\" or \"balanced_subsample\" are '\n"
     ]
    },
    {
     "name": "stdout",
     "output_type": "stream",
     "text": [
      "\n",
      "[CV] class_weight=balanced, n_estimators=305 .........................\n",
      "[CV]  class_weight=balanced, n_estimators=305, score=0.687504 -  14.8s\n",
      "[CV] class_weight=balanced, n_estimators=305 .........................\n",
      "[CV]  class_weight=balanced, n_estimators=305, score=0.692923 -  12.8s"
     ]
    },
    {
     "name": "stderr",
     "output_type": "stream",
     "text": [
      "/home/maxime/local/anaconda3/lib/python3.4/site-packages/sklearn/ensemble/forest.py:452: UserWarning: class_weight presets \"balanced\" or \"balanced_subsample\" are not recommended for warm_start if the fitted data differs from the full dataset. In order to use \"balanced\" weights, use compute_class_weight(\"balanced\", classes, y). In place of y you can use a large enough sample of the full training set target to properly estimate the class frequency distributions. Pass the resulting weights as the class_weight parameter.\n",
      "  warn('class_weight presets \"balanced\" or \"balanced_subsample\" are '\n",
      "/home/maxime/local/anaconda3/lib/python3.4/site-packages/sklearn/ensemble/forest.py:452: UserWarning: class_weight presets \"balanced\" or \"balanced_subsample\" are not recommended for warm_start if the fitted data differs from the full dataset. In order to use \"balanced\" weights, use compute_class_weight(\"balanced\", classes, y). In place of y you can use a large enough sample of the full training set target to properly estimate the class frequency distributions. Pass the resulting weights as the class_weight parameter.\n",
      "  warn('class_weight presets \"balanced\" or \"balanced_subsample\" are '\n"
     ]
    },
    {
     "name": "stdout",
     "output_type": "stream",
     "text": [
      "\n",
      "[CV] class_weight=balanced, n_estimators=405 .........................\n",
      "[CV]  class_weight=balanced, n_estimators=405, score=0.689166 -  16.7s\n",
      "[CV] class_weight=balanced, n_estimators=405 .........................\n",
      "[CV]  class_weight=balanced, n_estimators=405, score=0.688722 -  16.3s"
     ]
    },
    {
     "name": "stderr",
     "output_type": "stream",
     "text": [
      "/home/maxime/local/anaconda3/lib/python3.4/site-packages/sklearn/ensemble/forest.py:452: UserWarning: class_weight presets \"balanced\" or \"balanced_subsample\" are not recommended for warm_start if the fitted data differs from the full dataset. In order to use \"balanced\" weights, use compute_class_weight(\"balanced\", classes, y). In place of y you can use a large enough sample of the full training set target to properly estimate the class frequency distributions. Pass the resulting weights as the class_weight parameter.\n",
      "  warn('class_weight presets \"balanced\" or \"balanced_subsample\" are '\n",
      "/home/maxime/local/anaconda3/lib/python3.4/site-packages/sklearn/ensemble/forest.py:452: UserWarning: class_weight presets \"balanced\" or \"balanced_subsample\" are not recommended for warm_start if the fitted data differs from the full dataset. In order to use \"balanced\" weights, use compute_class_weight(\"balanced\", classes, y). In place of y you can use a large enough sample of the full training set target to properly estimate the class frequency distributions. Pass the resulting weights as the class_weight parameter.\n",
      "  warn('class_weight presets \"balanced\" or \"balanced_subsample\" are '\n"
     ]
    },
    {
     "name": "stdout",
     "output_type": "stream",
     "text": [
      "\n",
      "[CV] class_weight=balanced, n_estimators=405 .........................\n",
      "[CV]  class_weight=balanced, n_estimators=405, score=0.692849 -  16.4s\n",
      "[CV] class_weight=balanced, n_estimators=505 .........................\n",
      "[CV]  class_weight=balanced, n_estimators=505, score=0.688017 -  22.7s"
     ]
    },
    {
     "name": "stderr",
     "output_type": "stream",
     "text": [
      "/home/maxime/local/anaconda3/lib/python3.4/site-packages/sklearn/ensemble/forest.py:452: UserWarning: class_weight presets \"balanced\" or \"balanced_subsample\" are not recommended for warm_start if the fitted data differs from the full dataset. In order to use \"balanced\" weights, use compute_class_weight(\"balanced\", classes, y). In place of y you can use a large enough sample of the full training set target to properly estimate the class frequency distributions. Pass the resulting weights as the class_weight parameter.\n",
      "  warn('class_weight presets \"balanced\" or \"balanced_subsample\" are '\n",
      "/home/maxime/local/anaconda3/lib/python3.4/site-packages/sklearn/ensemble/forest.py:452: UserWarning: class_weight presets \"balanced\" or \"balanced_subsample\" are not recommended for warm_start if the fitted data differs from the full dataset. In order to use \"balanced\" weights, use compute_class_weight(\"balanced\", classes, y). In place of y you can use a large enough sample of the full training set target to properly estimate the class frequency distributions. Pass the resulting weights as the class_weight parameter.\n",
      "  warn('class_weight presets \"balanced\" or \"balanced_subsample\" are '\n"
     ]
    },
    {
     "name": "stdout",
     "output_type": "stream",
     "text": [
      "\n",
      "[CV] class_weight=balanced, n_estimators=505 .........................\n",
      "[CV]  class_weight=balanced, n_estimators=505, score=0.689518 -  20.1s\n",
      "[CV] class_weight=balanced, n_estimators=505 .........................\n",
      "[CV]  class_weight=balanced, n_estimators=505, score=0.693842 -  20.2s"
     ]
    },
    {
     "name": "stderr",
     "output_type": "stream",
     "text": [
      "/home/maxime/local/anaconda3/lib/python3.4/site-packages/sklearn/ensemble/forest.py:452: UserWarning: class_weight presets \"balanced\" or \"balanced_subsample\" are not recommended for warm_start if the fitted data differs from the full dataset. In order to use \"balanced\" weights, use compute_class_weight(\"balanced\", classes, y). In place of y you can use a large enough sample of the full training set target to properly estimate the class frequency distributions. Pass the resulting weights as the class_weight parameter.\n",
      "  warn('class_weight presets \"balanced\" or \"balanced_subsample\" are '\n",
      "/home/maxime/local/anaconda3/lib/python3.4/site-packages/sklearn/ensemble/forest.py:452: UserWarning: class_weight presets \"balanced\" or \"balanced_subsample\" are not recommended for warm_start if the fitted data differs from the full dataset. In order to use \"balanced\" weights, use compute_class_weight(\"balanced\", classes, y). In place of y you can use a large enough sample of the full training set target to properly estimate the class frequency distributions. Pass the resulting weights as the class_weight parameter.\n",
      "  warn('class_weight presets \"balanced\" or \"balanced_subsample\" are '\n"
     ]
    },
    {
     "name": "stdout",
     "output_type": "stream",
     "text": [
      "\n",
      "[CV] class_weight=balanced, n_estimators=605 .........................\n",
      "[CV]  class_weight=balanced, n_estimators=605, score=0.689390 -  25.9s\n",
      "[CV] class_weight=balanced, n_estimators=605 .........................\n",
      "[CV]  class_weight=balanced, n_estimators=605, score=0.689076 -  25.9s"
     ]
    },
    {
     "name": "stderr",
     "output_type": "stream",
     "text": [
      "/home/maxime/local/anaconda3/lib/python3.4/site-packages/sklearn/ensemble/forest.py:452: UserWarning: class_weight presets \"balanced\" or \"balanced_subsample\" are not recommended for warm_start if the fitted data differs from the full dataset. In order to use \"balanced\" weights, use compute_class_weight(\"balanced\", classes, y). In place of y you can use a large enough sample of the full training set target to properly estimate the class frequency distributions. Pass the resulting weights as the class_weight parameter.\n",
      "  warn('class_weight presets \"balanced\" or \"balanced_subsample\" are '\n",
      "/home/maxime/local/anaconda3/lib/python3.4/site-packages/sklearn/ensemble/forest.py:452: UserWarning: class_weight presets \"balanced\" or \"balanced_subsample\" are not recommended for warm_start if the fitted data differs from the full dataset. In order to use \"balanced\" weights, use compute_class_weight(\"balanced\", classes, y). In place of y you can use a large enough sample of the full training set target to properly estimate the class frequency distributions. Pass the resulting weights as the class_weight parameter.\n",
      "  warn('class_weight presets \"balanced\" or \"balanced_subsample\" are '\n"
     ]
    },
    {
     "name": "stdout",
     "output_type": "stream",
     "text": [
      "\n",
      "[CV] class_weight=balanced, n_estimators=605 .........................\n",
      "[CV]  class_weight=balanced, n_estimators=605, score=0.694283 -  24.6s\n",
      "[CV] class_weight=balanced, n_estimators=705 .........................\n",
      "[CV]  class_weight=balanced, n_estimators=705, score=0.689572 -  28.8s"
     ]
    },
    {
     "name": "stderr",
     "output_type": "stream",
     "text": [
      "/home/maxime/local/anaconda3/lib/python3.4/site-packages/sklearn/ensemble/forest.py:452: UserWarning: class_weight presets \"balanced\" or \"balanced_subsample\" are not recommended for warm_start if the fitted data differs from the full dataset. In order to use \"balanced\" weights, use compute_class_weight(\"balanced\", classes, y). In place of y you can use a large enough sample of the full training set target to properly estimate the class frequency distributions. Pass the resulting weights as the class_weight parameter.\n",
      "  warn('class_weight presets \"balanced\" or \"balanced_subsample\" are '\n",
      "/home/maxime/local/anaconda3/lib/python3.4/site-packages/sklearn/ensemble/forest.py:452: UserWarning: class_weight presets \"balanced\" or \"balanced_subsample\" are not recommended for warm_start if the fitted data differs from the full dataset. In order to use \"balanced\" weights, use compute_class_weight(\"balanced\", classes, y). In place of y you can use a large enough sample of the full training set target to properly estimate the class frequency distributions. Pass the resulting weights as the class_weight parameter.\n",
      "  warn('class_weight presets \"balanced\" or \"balanced_subsample\" are '\n"
     ]
    },
    {
     "name": "stdout",
     "output_type": "stream",
     "text": [
      "\n",
      "[CV] class_weight=balanced, n_estimators=705 .........................\n",
      "[CV]  class_weight=balanced, n_estimators=705, score=0.689411 -  30.4s\n",
      "[CV] class_weight=balanced, n_estimators=705 .........................\n",
      "[CV]  class_weight=balanced, n_estimators=705, score=0.694100 -  28.3s"
     ]
    },
    {
     "name": "stderr",
     "output_type": "stream",
     "text": [
      "/home/maxime/local/anaconda3/lib/python3.4/site-packages/sklearn/ensemble/forest.py:452: UserWarning: class_weight presets \"balanced\" or \"balanced_subsample\" are not recommended for warm_start if the fitted data differs from the full dataset. In order to use \"balanced\" weights, use compute_class_weight(\"balanced\", classes, y). In place of y you can use a large enough sample of the full training set target to properly estimate the class frequency distributions. Pass the resulting weights as the class_weight parameter.\n",
      "  warn('class_weight presets \"balanced\" or \"balanced_subsample\" are '\n",
      "/home/maxime/local/anaconda3/lib/python3.4/site-packages/sklearn/ensemble/forest.py:452: UserWarning: class_weight presets \"balanced\" or \"balanced_subsample\" are not recommended for warm_start if the fitted data differs from the full dataset. In order to use \"balanced\" weights, use compute_class_weight(\"balanced\", classes, y). In place of y you can use a large enough sample of the full training set target to properly estimate the class frequency distributions. Pass the resulting weights as the class_weight parameter.\n",
      "  warn('class_weight presets \"balanced\" or \"balanced_subsample\" are '\n"
     ]
    },
    {
     "name": "stdout",
     "output_type": "stream",
     "text": [
      "\n",
      "[CV] class_weight=balanced, n_estimators=805 .........................\n",
      "[CV]  class_weight=balanced, n_estimators=805, score=0.689803 -  33.8s\n",
      "[CV] class_weight=balanced, n_estimators=805 .........................\n",
      "[CV]  class_weight=balanced, n_estimators=805, score=0.690630 -  34.3s"
     ]
    },
    {
     "name": "stderr",
     "output_type": "stream",
     "text": [
      "/home/maxime/local/anaconda3/lib/python3.4/site-packages/sklearn/ensemble/forest.py:452: UserWarning: class_weight presets \"balanced\" or \"balanced_subsample\" are not recommended for warm_start if the fitted data differs from the full dataset. In order to use \"balanced\" weights, use compute_class_weight(\"balanced\", classes, y). In place of y you can use a large enough sample of the full training set target to properly estimate the class frequency distributions. Pass the resulting weights as the class_weight parameter.\n",
      "  warn('class_weight presets \"balanced\" or \"balanced_subsample\" are '\n",
      "/home/maxime/local/anaconda3/lib/python3.4/site-packages/sklearn/ensemble/forest.py:452: UserWarning: class_weight presets \"balanced\" or \"balanced_subsample\" are not recommended for warm_start if the fitted data differs from the full dataset. In order to use \"balanced\" weights, use compute_class_weight(\"balanced\", classes, y). In place of y you can use a large enough sample of the full training set target to properly estimate the class frequency distributions. Pass the resulting weights as the class_weight parameter.\n",
      "  warn('class_weight presets \"balanced\" or \"balanced_subsample\" are '\n"
     ]
    },
    {
     "name": "stdout",
     "output_type": "stream",
     "text": [
      "\n",
      "[CV] class_weight=balanced, n_estimators=805 .........................\n",
      "[CV]  class_weight=balanced, n_estimators=805, score=0.693586 -  33.7s\n",
      "[CV] class_weight=balanced, n_estimators=905 .........................\n",
      "[CV]  class_weight=balanced, n_estimators=905, score=0.690984 -  37.6s"
     ]
    },
    {
     "name": "stderr",
     "output_type": "stream",
     "text": [
      "/home/maxime/local/anaconda3/lib/python3.4/site-packages/sklearn/ensemble/forest.py:452: UserWarning: class_weight presets \"balanced\" or \"balanced_subsample\" are not recommended for warm_start if the fitted data differs from the full dataset. In order to use \"balanced\" weights, use compute_class_weight(\"balanced\", classes, y). In place of y you can use a large enough sample of the full training set target to properly estimate the class frequency distributions. Pass the resulting weights as the class_weight parameter.\n",
      "  warn('class_weight presets \"balanced\" or \"balanced_subsample\" are '\n",
      "/home/maxime/local/anaconda3/lib/python3.4/site-packages/sklearn/ensemble/forest.py:452: UserWarning: class_weight presets \"balanced\" or \"balanced_subsample\" are not recommended for warm_start if the fitted data differs from the full dataset. In order to use \"balanced\" weights, use compute_class_weight(\"balanced\", classes, y). In place of y you can use a large enough sample of the full training set target to properly estimate the class frequency distributions. Pass the resulting weights as the class_weight parameter.\n",
      "  warn('class_weight presets \"balanced\" or \"balanced_subsample\" are '\n"
     ]
    },
    {
     "name": "stdout",
     "output_type": "stream",
     "text": [
      "\n",
      "[CV] class_weight=balanced, n_estimators=905 .........................\n",
      "[CV]  class_weight=balanced, n_estimators=905, score=0.689632 -  38.2s\n",
      "[CV] class_weight=balanced, n_estimators=905 .........................\n",
      "[CV]  class_weight=balanced, n_estimators=905, score=0.694985 -  39.0s"
     ]
    },
    {
     "name": "stderr",
     "output_type": "stream",
     "text": [
      "/home/maxime/local/anaconda3/lib/python3.4/site-packages/sklearn/ensemble/forest.py:452: UserWarning: class_weight presets \"balanced\" or \"balanced_subsample\" are not recommended for warm_start if the fitted data differs from the full dataset. In order to use \"balanced\" weights, use compute_class_weight(\"balanced\", classes, y). In place of y you can use a large enough sample of the full training set target to properly estimate the class frequency distributions. Pass the resulting weights as the class_weight parameter.\n",
      "  warn('class_weight presets \"balanced\" or \"balanced_subsample\" are '\n",
      "/home/maxime/local/anaconda3/lib/python3.4/site-packages/sklearn/ensemble/forest.py:452: UserWarning: class_weight presets \"balanced\" or \"balanced_subsample\" are not recommended for warm_start if the fitted data differs from the full dataset. In order to use \"balanced\" weights, use compute_class_weight(\"balanced\", classes, y). In place of y you can use a large enough sample of the full training set target to properly estimate the class frequency distributions. Pass the resulting weights as the class_weight parameter.\n",
      "  warn('class_weight presets \"balanced\" or \"balanced_subsample\" are '\n"
     ]
    },
    {
     "name": "stdout",
     "output_type": "stream",
     "text": [
      "\n",
      "[CV] class_weight=balanced, n_estimators=1005 ........................\n",
      "[CV]  class_weight=balanced, n_estimators=1005, score=0.690297 -  44.0s\n",
      "[CV] class_weight=balanced, n_estimators=1005 ........................\n",
      "[CV]  class_weight=balanced, n_estimators=1005, score=0.689956 -  43.9s"
     ]
    },
    {
     "name": "stderr",
     "output_type": "stream",
     "text": [
      "/home/maxime/local/anaconda3/lib/python3.4/site-packages/sklearn/ensemble/forest.py:452: UserWarning: class_weight presets \"balanced\" or \"balanced_subsample\" are not recommended for warm_start if the fitted data differs from the full dataset. In order to use \"balanced\" weights, use compute_class_weight(\"balanced\", classes, y). In place of y you can use a large enough sample of the full training set target to properly estimate the class frequency distributions. Pass the resulting weights as the class_weight parameter.\n",
      "  warn('class_weight presets \"balanced\" or \"balanced_subsample\" are '\n",
      "/home/maxime/local/anaconda3/lib/python3.4/site-packages/sklearn/ensemble/forest.py:452: UserWarning: class_weight presets \"balanced\" or \"balanced_subsample\" are not recommended for warm_start if the fitted data differs from the full dataset. In order to use \"balanced\" weights, use compute_class_weight(\"balanced\", classes, y). In place of y you can use a large enough sample of the full training set target to properly estimate the class frequency distributions. Pass the resulting weights as the class_weight parameter.\n",
      "  warn('class_weight presets \"balanced\" or \"balanced_subsample\" are '\n"
     ]
    },
    {
     "name": "stdout",
     "output_type": "stream",
     "text": [
      "\n",
      "[CV] class_weight=balanced, n_estimators=1005 ........................\n",
      "[CV]  class_weight=balanced, n_estimators=1005, score=0.695061 -  42.2s\n",
      "[CV] class_weight=balanced, n_estimators=1105 ........................\n",
      "[CV]  class_weight=balanced, n_estimators=1105, score=0.690610 -  45.2s"
     ]
    },
    {
     "name": "stderr",
     "output_type": "stream",
     "text": [
      "/home/maxime/local/anaconda3/lib/python3.4/site-packages/sklearn/ensemble/forest.py:452: UserWarning: class_weight presets \"balanced\" or \"balanced_subsample\" are not recommended for warm_start if the fitted data differs from the full dataset. In order to use \"balanced\" weights, use compute_class_weight(\"balanced\", classes, y). In place of y you can use a large enough sample of the full training set target to properly estimate the class frequency distributions. Pass the resulting weights as the class_weight parameter.\n",
      "  warn('class_weight presets \"balanced\" or \"balanced_subsample\" are '\n",
      "/home/maxime/local/anaconda3/lib/python3.4/site-packages/sklearn/ensemble/forest.py:452: UserWarning: class_weight presets \"balanced\" or \"balanced_subsample\" are not recommended for warm_start if the fitted data differs from the full dataset. In order to use \"balanced\" weights, use compute_class_weight(\"balanced\", classes, y). In place of y you can use a large enough sample of the full training set target to properly estimate the class frequency distributions. Pass the resulting weights as the class_weight parameter.\n",
      "  warn('class_weight presets \"balanced\" or \"balanced_subsample\" are '\n"
     ]
    },
    {
     "name": "stdout",
     "output_type": "stream",
     "text": [
      "\n",
      "[CV] class_weight=balanced, n_estimators=1105 ........................\n",
      "[CV]  class_weight=balanced, n_estimators=1105, score=0.690704 -  44.9s\n",
      "[CV] class_weight=balanced, n_estimators=1105 ........................\n",
      "[CV]  class_weight=balanced, n_estimators=1105, score=0.695140 -  45.7s"
     ]
    },
    {
     "name": "stderr",
     "output_type": "stream",
     "text": [
      "/home/maxime/local/anaconda3/lib/python3.4/site-packages/sklearn/ensemble/forest.py:452: UserWarning: class_weight presets \"balanced\" or \"balanced_subsample\" are not recommended for warm_start if the fitted data differs from the full dataset. In order to use \"balanced\" weights, use compute_class_weight(\"balanced\", classes, y). In place of y you can use a large enough sample of the full training set target to properly estimate the class frequency distributions. Pass the resulting weights as the class_weight parameter.\n",
      "  warn('class_weight presets \"balanced\" or \"balanced_subsample\" are '\n",
      "/home/maxime/local/anaconda3/lib/python3.4/site-packages/sklearn/ensemble/forest.py:452: UserWarning: class_weight presets \"balanced\" or \"balanced_subsample\" are not recommended for warm_start if the fitted data differs from the full dataset. In order to use \"balanced\" weights, use compute_class_weight(\"balanced\", classes, y). In place of y you can use a large enough sample of the full training set target to properly estimate the class frequency distributions. Pass the resulting weights as the class_weight parameter.\n",
      "  warn('class_weight presets \"balanced\" or \"balanced_subsample\" are '\n"
     ]
    },
    {
     "name": "stdout",
     "output_type": "stream",
     "text": [
      "\n",
      "[CV] class_weight=balanced, n_estimators=1205 ........................\n",
      "[CV]  class_weight=balanced, n_estimators=1205, score=0.689956 -  50.6s\n",
      "[CV] class_weight=balanced, n_estimators=1205 ........................\n",
      "[CV]  class_weight=balanced, n_estimators=1205, score=0.690310 -  50.3s"
     ]
    },
    {
     "name": "stderr",
     "output_type": "stream",
     "text": [
      "/home/maxime/local/anaconda3/lib/python3.4/site-packages/sklearn/ensemble/forest.py:452: UserWarning: class_weight presets \"balanced\" or \"balanced_subsample\" are not recommended for warm_start if the fitted data differs from the full dataset. In order to use \"balanced\" weights, use compute_class_weight(\"balanced\", classes, y). In place of y you can use a large enough sample of the full training set target to properly estimate the class frequency distributions. Pass the resulting weights as the class_weight parameter.\n",
      "  warn('class_weight presets \"balanced\" or \"balanced_subsample\" are '\n",
      "/home/maxime/local/anaconda3/lib/python3.4/site-packages/sklearn/ensemble/forest.py:452: UserWarning: class_weight presets \"balanced\" or \"balanced_subsample\" are not recommended for warm_start if the fitted data differs from the full dataset. In order to use \"balanced\" weights, use compute_class_weight(\"balanced\", classes, y). In place of y you can use a large enough sample of the full training set target to properly estimate the class frequency distributions. Pass the resulting weights as the class_weight parameter.\n",
      "  warn('class_weight presets \"balanced\" or \"balanced_subsample\" are '\n"
     ]
    },
    {
     "name": "stdout",
     "output_type": "stream",
     "text": [
      "\n",
      "[CV] class_weight=balanced, n_estimators=1205 ........................\n",
      "[CV]  class_weight=balanced, n_estimators=1205, score=0.695820 -  52.0s\n",
      "[CV] class_weight=balanced, n_estimators=1305 ........................\n",
      "[CV]  class_weight=balanced, n_estimators=1305, score=0.690524 -  53.7s"
     ]
    },
    {
     "name": "stderr",
     "output_type": "stream",
     "text": [
      "/home/maxime/local/anaconda3/lib/python3.4/site-packages/sklearn/ensemble/forest.py:452: UserWarning: class_weight presets \"balanced\" or \"balanced_subsample\" are not recommended for warm_start if the fitted data differs from the full dataset. In order to use \"balanced\" weights, use compute_class_weight(\"balanced\", classes, y). In place of y you can use a large enough sample of the full training set target to properly estimate the class frequency distributions. Pass the resulting weights as the class_weight parameter.\n",
      "  warn('class_weight presets \"balanced\" or \"balanced_subsample\" are '\n",
      "/home/maxime/local/anaconda3/lib/python3.4/site-packages/sklearn/ensemble/forest.py:452: UserWarning: class_weight presets \"balanced\" or \"balanced_subsample\" are not recommended for warm_start if the fitted data differs from the full dataset. In order to use \"balanced\" weights, use compute_class_weight(\"balanced\", classes, y). In place of y you can use a large enough sample of the full training set target to properly estimate the class frequency distributions. Pass the resulting weights as the class_weight parameter.\n",
      "  warn('class_weight presets \"balanced\" or \"balanced_subsample\" are '\n"
     ]
    },
    {
     "name": "stdout",
     "output_type": "stream",
     "text": [
      "\n",
      "[CV] class_weight=balanced, n_estimators=1305 ........................\n",
      "[CV]  class_weight=balanced, n_estimators=1305, score=0.690958 -  55.3s\n",
      "[CV] class_weight=balanced, n_estimators=1305 ........................\n",
      "[CV]  class_weight=balanced, n_estimators=1305, score=0.695064 -  55.1s"
     ]
    },
    {
     "name": "stderr",
     "output_type": "stream",
     "text": [
      "/home/maxime/local/anaconda3/lib/python3.4/site-packages/sklearn/ensemble/forest.py:452: UserWarning: class_weight presets \"balanced\" or \"balanced_subsample\" are not recommended for warm_start if the fitted data differs from the full dataset. In order to use \"balanced\" weights, use compute_class_weight(\"balanced\", classes, y). In place of y you can use a large enough sample of the full training set target to properly estimate the class frequency distributions. Pass the resulting weights as the class_weight parameter.\n",
      "  warn('class_weight presets \"balanced\" or \"balanced_subsample\" are '\n",
      "/home/maxime/local/anaconda3/lib/python3.4/site-packages/sklearn/ensemble/forest.py:452: UserWarning: class_weight presets \"balanced\" or \"balanced_subsample\" are not recommended for warm_start if the fitted data differs from the full dataset. In order to use \"balanced\" weights, use compute_class_weight(\"balanced\", classes, y). In place of y you can use a large enough sample of the full training set target to properly estimate the class frequency distributions. Pass the resulting weights as the class_weight parameter.\n",
      "  warn('class_weight presets \"balanced\" or \"balanced_subsample\" are '\n"
     ]
    },
    {
     "name": "stdout",
     "output_type": "stream",
     "text": [
      "\n",
      "[CV] class_weight=balanced, n_estimators=1405 ........................\n",
      "[CV]  class_weight=balanced, n_estimators=1405, score=0.690964 - 1.0min\n",
      "[CV] class_weight=balanced, n_estimators=1405 ........................\n",
      "[CV]  class_weight=balanced, n_estimators=1405, score=0.690816 - 1.0min"
     ]
    },
    {
     "name": "stderr",
     "output_type": "stream",
     "text": [
      "/home/maxime/local/anaconda3/lib/python3.4/site-packages/sklearn/ensemble/forest.py:452: UserWarning: class_weight presets \"balanced\" or \"balanced_subsample\" are not recommended for warm_start if the fitted data differs from the full dataset. In order to use \"balanced\" weights, use compute_class_weight(\"balanced\", classes, y). In place of y you can use a large enough sample of the full training set target to properly estimate the class frequency distributions. Pass the resulting weights as the class_weight parameter.\n",
      "  warn('class_weight presets \"balanced\" or \"balanced_subsample\" are '\n",
      "/home/maxime/local/anaconda3/lib/python3.4/site-packages/sklearn/ensemble/forest.py:452: UserWarning: class_weight presets \"balanced\" or \"balanced_subsample\" are not recommended for warm_start if the fitted data differs from the full dataset. In order to use \"balanced\" weights, use compute_class_weight(\"balanced\", classes, y). In place of y you can use a large enough sample of the full training set target to properly estimate the class frequency distributions. Pass the resulting weights as the class_weight parameter.\n",
      "  warn('class_weight presets \"balanced\" or \"balanced_subsample\" are '\n"
     ]
    },
    {
     "name": "stdout",
     "output_type": "stream",
     "text": [
      "\n",
      "[CV] class_weight=balanced, n_estimators=1405 ........................\n",
      "[CV]  class_weight=balanced, n_estimators=1405, score=0.695241 -  58.8s\n"
     ]
    },
    {
     "name": "stderr",
     "output_type": "stream",
     "text": [
      "[Parallel(n_jobs=1)]: Done  90 out of  90 | elapsed: 45.5min finished\n",
      "/home/maxime/local/anaconda3/lib/python3.4/site-packages/sklearn/ensemble/forest.py:452: UserWarning: class_weight presets \"balanced\" or \"balanced_subsample\" are not recommended for warm_start if the fitted data differs from the full dataset. In order to use \"balanced\" weights, use compute_class_weight(\"balanced\", classes, y). In place of y you can use a large enough sample of the full training set target to properly estimate the class frequency distributions. Pass the resulting weights as the class_weight parameter.\n",
      "  warn('class_weight presets \"balanced\" or \"balanced_subsample\" are '\n"
     ]
    },
    {
     "data": {
      "text/plain": [
       "GridSearchCV(cv=None, error_score='raise',\n",
       "       estimator=RandomForestClassifier(bootstrap=True, class_weight=None, criterion='gini',\n",
       "            max_depth=None, max_features='auto', max_leaf_nodes=None,\n",
       "            min_samples_leaf=1, min_samples_split=1,\n",
       "            min_weight_fraction_leaf=0.0, n_estimators=10, n_jobs=6,\n",
       "            oob_score=False, random_state=None, verbose=0, warm_start=True),\n",
       "       fit_params={}, iid=True, n_jobs=1,\n",
       "       param_grid={'class_weight': [None, 'balanced'], 'n_estimators': array([   5,  105,  205,  305,  405,  505,  605,  705,  805,  905, 1005,\n",
       "       1105, 1205, 1305, 1405])},\n",
       "       pre_dispatch='2*n_jobs', refit=True, scoring='roc_auc', verbose=3)"
      ]
     },
     "execution_count": 13,
     "metadata": {},
     "output_type": "execute_result"
    }
   ],
   "source": [
    "features1 = df1_eval.columns.tolist()\n",
    "features1.remove('index_origin')\n",
    "\n",
    "params = {'n_estimators':np.arange(5,1500,100), 'class_weight':[None, 'balanced']}\n",
    "\n",
    "est = RandomForestClassifier(n_jobs=6, min_samples_split=1, max_depth=None, warm_start=True)\n",
    "\n",
    "clf1 = GridSearchCV(estimator=est, param_grid=params, verbose=3, scoring='roc_auc')\n",
    "\n",
    "clf1.fit(df1_train[features1], df1_train['VARIABLE_CIBLE'])"
   ]
  },
  {
   "cell_type": "code",
   "execution_count": 14,
   "metadata": {
    "collapsed": false
   },
   "outputs": [
    {
     "name": "stdout",
     "output_type": "stream",
     "text": [
      "{'class_weight': 'balanced', 'n_estimators': 1405}\n",
      "0.692340130764\n"
     ]
    }
   ],
   "source": [
    "print(clf1.best_params_)\n",
    "print(clf1.best_score_)"
   ]
  },
  {
   "cell_type": "markdown",
   "metadata": {},
   "source": [
    "Benchmark model : \n",
    " - Tout les features : GridSearchCV results: {'n_estimators': 1405, 'class_weight': 'balanced'}, score roc_auc: 0.692340130764"
   ]
  },
  {
   "cell_type": "markdown",
   "metadata": {},
   "source": [
    "# Working on features in df0"
   ]
  },
  {
   "cell_type": "code",
   "execution_count": 17,
   "metadata": {
    "collapsed": true
   },
   "outputs": [],
   "source": [
    "# Import\n",
    "test = pd.read_csv('data/test.csv', sep=';', na_values='(MISSING)')\n",
    "test['VARIABLE_CIBLE'] = 'UNKNOWN'\n",
    "test['index_origin'] = test.index.tolist()\n",
    "\n",
    "train = pd.read_csv('data/train.csv', sep=';', na_values='(MISSING)')\n",
    "train['index_origin'] = -1\n",
    "\n",
    "piv_train = train.shape[0]\n",
    "\n",
    "# Creating a DataFrame with train+test data\n",
    "df_all = pd.concat((train, test), axis=0, ignore_index=True)\n",
    "\n",
    "\n",
    "df_all0 = df_all[df_all.SOURCE_CITED_AGE == 'IMPUT']"
   ]
  },
  {
   "cell_type": "code",
   "execution_count": 19,
   "metadata": {
    "collapsed": false
   },
   "outputs": [
    {
     "data": {
      "text/plain": [
       "<matplotlib.axes._subplots.AxesSubplot at 0x7fa34d1e9f28>"
      ]
     },
     "execution_count": 19,
     "metadata": {},
     "output_type": "execute_result"
    },
    {
     "data": {
      "image/png": "[encoded data removed]",
      "text/plain": [
       "<matplotlib.figure.Figure at 0x7fa34c8477f0>"
      ]
     },
     "metadata": {},
     "output_type": "display_data"
    }
   ],
   "source": [
    "plt.figure(figsize=(13,9))\n",
    "corr = df_all0.corr()\n",
    "sns.heatmap(corr, square=True)"
   ]
  },
  {
   "cell_type": "code",
   "execution_count": 36,
   "metadata": {
    "collapsed": false
   },
   "outputs": [
    {
     "data": {
      "text/plain": [
       "<matplotlib.axes._subplots.AxesSubplot at 0x7fa34d017208>"
      ]
     },
     "execution_count": 36,
     "metadata": {},
     "output_type": "execute_result"
    },
    {
     "data": {
      "image/png": "[encoded data removed]",
      "text/plain": [
       "<matplotlib.figure.Figure at 0x7fa34d017278>"
      ]
     },
     "metadata": {},
     "output_type": "display_data"
    }
   ],
   "source": [
    "plt.figure(figsize=(13,9))\n",
    "ax = plt.gca()\n",
    "df_all0.plot(kind='scatter', x='NB_BACKWARD', y='NB_BACKWARD_PL', ax = ax)"
   ]
  },
  {
   "cell_type": "code",
   "execution_count": 45,
   "metadata": {
    "collapsed": false
   },
   "outputs": [
    {
     "data": {
      "text/plain": [
       "<matplotlib.axes._subplots.AxesSubplot at 0x7fa348818390>"
      ]
     },
     "execution_count": 45,
     "metadata": {},
     "output_type": "execute_result"
    },
    {
     "data": {
      "image/png": "[encoded data removed]",
      "text/plain": [
       "<matplotlib.figure.Figure at 0x7fa348818cf8>"
      ]
     },
     "metadata": {},
     "output_type": "display_data"
    }
   ],
   "source": [
    "plt.figure(figsize=(13,9))\n",
    "ax = plt.gca()\n",
    "df_all0.plot(kind='hexbin', x='NB_BACKWARD', y='NB_BACKWARD_PL', gridsize=100, ax = ax, bins='log', vmax=3)\n"
   ]
  },
  {
   "cell_type": "code",
   "execution_count": 17,
   "metadata": {
    "collapsed": false
   },
   "outputs": [
    {
     "data": {
      "text/plain": [
       "<matplotlib.axes._subplots.AxesSubplot at 0x7fe3fbe21400>"
      ]
     },
     "execution_count": 17,
     "metadata": {},
     "output_type": "execute_result"
    },
    {
     "data": {
      "image/png": "[encoded data removed]",
      "text/plain": [
       "<matplotlib.figure.Figure at 0x7fe3fbf19630>"
      ]
     },
     "metadata": {},
     "output_type": "display_data"
    }
   ],
   "source": [
    "plt.figure(figsize=(13,9))\n",
    "corr = df_all1.corr()\n",
    "sns.heatmap(corr, square=True)"
   ]
  },
  {
   "cell_type": "markdown",
   "metadata": {},
   "source": [
    "# resultats combinés avec le model Benchmark"
   ]
  },
  {
   "cell_type": "code",
   "execution_count": 3,
   "metadata": {
    "collapsed": false
   },
   "outputs": [
    {
     "name": "stdout",
     "output_type": "stream",
     "text": [
      "(84092, 48) (167692, 49)\n",
      "(84092, 37) (167692, 38)\n",
      "(45623, 48) (91739, 49)\n",
      "(45623, 46) (91739, 47)\n"
     ]
    },
    {
     "name": "stderr",
     "output_type": "stream",
     "text": [
      "/home/maxime/local/anaconda3/lib/python3.4/site-packages/pandas/core/frame.py:2265: SettingWithCopyWarning: \n",
      "A value is trying to be set on a copy of a slice from a DataFrame.\n",
      "Try using .loc[row_indexer,col_indexer] = value instead\n",
      "\n",
      "See the caveats in the documentation: http://pandas.pydata.org/pandas-docs/stable/indexing.html#indexing-view-versus-copy\n",
      "  self[k1] = value[k2]\n"
     ]
    }
   ],
   "source": [
    "df_all = import_data('data/train.csv', 'data/test.csv', 'VARIABLE_CIBLE', na_values='(MISSING)') \n",
    "df_all0 = df_all[df_all.SOURCE_CITED_AGE == 'IMPUT']\n",
    "df_all1 = df_all[df_all.SOURCE_CITED_AGE == 'CALC']\n",
    "\n",
    "\n",
    "date_columns = ['PRIORITY_MONTH', 'FILING_MONTH', 'PUBLICATION_MONTH', 'BEGIN_MONTH']\n",
    "\n",
    "preproc = Preprocessings(date_columns=date_columns)\n",
    "\n",
    "df0 = preproc.datetime_processings(df_all0, format='%m/%Y')\n",
    "df0 = preproc.cat_to_codes(df0)\n",
    "df0 = df0.fillna(df0.median())\n",
    "\n",
    "preproc = Preprocessings(date_columns=date_columns)\n",
    "\n",
    "df1 = preproc.datetime_processings(df_all1, format='%m/%Y')\n",
    "df1 = preproc.cat_to_codes(df1)\n",
    "df1 = df1.fillna(df1.median())\n",
    "\n",
    "\n",
    "df0_train, df0_eval = re_split(df0, 'VARIABLE_CIBLE')\n",
    "df1_train, df1_eval = re_split(df1, 'VARIABLE_CIBLE')\n",
    "\n",
    "keep_feat = Used_features('VARIABLE_CIBLE')\n",
    "\n",
    "print(df0_eval.shape, df0_train.shape)\n",
    "df0_eval = keep_feat.fit_transform(df0_eval)\n",
    "df0_train = keep_feat.transform(df0_train)\n",
    "print(df0_eval.shape, df0_train.shape)\n",
    "\n",
    "keep_feat = Used_features('VARIABLE_CIBLE')\n",
    "\n",
    "print(df1_eval.shape, df1_train.shape)\n",
    "df1_eval = keep_feat.fit_transform(df1_eval)\n",
    "df1_train = keep_feat.transform(df1_train)\n",
    "print(df1_eval.shape, df1_train.shape)\n",
    "\n",
    "df_train0, df_test0 = train_test_split(df0_train, test_size=0.2, random_state=42)\n",
    "df_train1, df_test1 = train_test_split(df1_train, test_size=0.2, random_state=42)\n",
    "\n",
    "features0 = df0_eval.columns.tolist()\n",
    "features0.remove('index_origin')\n",
    "features1 = df1_eval.columns.tolist()\n",
    "features1.remove('index_origin')"
   ]
  },
  {
   "cell_type": "markdown",
   "metadata": {},
   "source": [
    "### modèle df0"
   ]
  },
  {
   "cell_type": "code",
   "execution_count": 4,
   "metadata": {
    "collapsed": false
   },
   "outputs": [
    {
     "name": "stdout",
     "output_type": "stream",
     "text": [
      "(134153, 38)\n"
     ]
    },
    {
     "data": {
      "text/plain": [
       "RandomForestClassifier(bootstrap=True, class_weight='balanced',\n",
       "            criterion='gini', max_depth=None, max_features='auto',\n",
       "            max_leaf_nodes=None, min_samples_leaf=1, min_samples_split=1,\n",
       "            min_weight_fraction_leaf=0.0, n_estimators=1300, n_jobs=6,\n",
       "            oob_score=False, random_state=None, verbose=0,\n",
       "            warm_start=False)"
      ]
     },
     "execution_count": 4,
     "metadata": {},
     "output_type": "execute_result"
    }
   ],
   "source": [
    "print(df_train0.shape)\n",
    "\n",
    "clf0 = RandomForestClassifier(n_estimators=1300, class_weight='balanced', \n",
    "                             min_samples_split=1, max_depth=None, n_jobs=6)\n",
    "\n",
    "clf0.fit(df_train0[features0].values, df_train0.VARIABLE_CIBLE.values)"
   ]
  },
  {
   "cell_type": "code",
   "execution_count": 6,
   "metadata": {
    "collapsed": false
   },
   "outputs": [
    {
     "name": "stdout",
     "output_type": "stream",
     "text": [
      "score 0.696329834611\n"
     ]
    }
   ],
   "source": [
    "Y_proba0 = clf0.predict_proba(df_test0[features0].values)\n",
    "roc_auc = roc_auc_score(df_test0.VARIABLE_CIBLE.values, Y_proba0[:,1])\n",
    "\n",
    "print('score', roc_auc)"
   ]
  },
  {
   "cell_type": "markdown",
   "metadata": {},
   "source": [
    "### modèle df1"
   ]
  },
  {
   "cell_type": "code",
   "execution_count": 7,
   "metadata": {
    "collapsed": false
   },
   "outputs": [
    {
     "name": "stdout",
     "output_type": "stream",
     "text": [
      "(73391, 47)\n"
     ]
    },
    {
     "data": {
      "text/plain": [
       "RandomForestClassifier(bootstrap=True, class_weight='balanced',\n",
       "            criterion='gini', max_depth=None, max_features='auto',\n",
       "            max_leaf_nodes=None, min_samples_leaf=1, min_samples_split=1,\n",
       "            min_weight_fraction_leaf=0.0, n_estimators=1405, n_jobs=6,\n",
       "            oob_score=False, random_state=None, verbose=0,\n",
       "            warm_start=False)"
      ]
     },
     "execution_count": 7,
     "metadata": {},
     "output_type": "execute_result"
    }
   ],
   "source": [
    "print(df_train1.shape)\n",
    "\n",
    "clf1 = RandomForestClassifier(n_estimators=1405, class_weight='balanced', \n",
    "                             min_samples_split=1, max_depth=None, n_jobs=6)\n",
    "\n",
    "clf1.fit(df_train1[features1].values, df_train1.VARIABLE_CIBLE.values)"
   ]
  },
  {
   "cell_type": "code",
   "execution_count": 8,
   "metadata": {
    "collapsed": false
   },
   "outputs": [
    {
     "name": "stdout",
     "output_type": "stream",
     "text": [
      "score 0.691156521738\n"
     ]
    }
   ],
   "source": [
    "Y_proba1 = clf1.predict_proba(df_test1[features1].values)\n",
    "roc_auc = roc_auc_score(df_test1.VARIABLE_CIBLE.values, Y_proba1[:,1])\n",
    "\n",
    "print('score', roc_auc)"
   ]
  },
  {
   "cell_type": "markdown",
   "metadata": {},
   "source": [
    "### Résultats du modèle combiné df0-df1"
   ]
  },
  {
   "cell_type": "markdown",
   "metadata": {},
   "source": [
    "#### Résultats sur test set"
   ]
  },
  {
   "cell_type": "code",
   "execution_count": 16,
   "metadata": {
    "collapsed": false
   },
   "outputs": [
    {
     "name": "stderr",
     "output_type": "stream",
     "text": [
      "/home/maxime/local/anaconda3/lib/python3.4/site-packages/ipykernel/__main__.py:1: SettingWithCopyWarning: \n",
      "A value is trying to be set on a copy of a slice from a DataFrame.\n",
      "Try using .loc[row_indexer,col_indexer] = value instead\n",
      "\n",
      "See the caveats in the documentation: http://pandas.pydata.org/pandas-docs/stable/indexing.html#indexing-view-versus-copy\n",
      "  if __name__ == '__main__':\n",
      "/home/maxime/local/anaconda3/lib/python3.4/site-packages/ipykernel/__main__.py:2: SettingWithCopyWarning: \n",
      "A value is trying to be set on a copy of a slice from a DataFrame.\n",
      "Try using .loc[row_indexer,col_indexer] = value instead\n",
      "\n",
      "See the caveats in the documentation: http://pandas.pydata.org/pandas-docs/stable/indexing.html#indexing-view-versus-copy\n",
      "  from ipykernel import kernelapp as app\n",
      "/home/maxime/local/anaconda3/lib/python3.4/site-packages/ipykernel/__main__.py:4: SettingWithCopyWarning: \n",
      "A value is trying to be set on a copy of a slice from a DataFrame.\n",
      "Try using .loc[row_indexer,col_indexer] = value instead\n",
      "\n",
      "See the caveats in the documentation: http://pandas.pydata.org/pandas-docs/stable/indexing.html#indexing-view-versus-copy\n"
     ]
    },
    {
     "name": "stdout",
     "output_type": "stream",
     "text": [
      "total test score:  0.695492131348\n"
     ]
    },
    {
     "name": "stderr",
     "output_type": "stream",
     "text": [
      "/home/maxime/local/anaconda3/lib/python3.4/site-packages/ipykernel/__main__.py:5: SettingWithCopyWarning: \n",
      "A value is trying to be set on a copy of a slice from a DataFrame.\n",
      "Try using .loc[row_indexer,col_indexer] = value instead\n",
      "\n",
      "See the caveats in the documentation: http://pandas.pydata.org/pandas-docs/stable/indexing.html#indexing-view-versus-copy\n"
     ]
    }
   ],
   "source": [
    "df_test0['proba_c0'] = Y_proba0[:,0] \n",
    "df_test0['proba_c1'] = Y_proba0[:,1] \n",
    "\n",
    "df_test1['proba_c0'] = Y_proba1[:,0] \n",
    "df_test1['proba_c1'] = Y_proba1[:,1] \n",
    "\n",
    "cols = ['VARIABLE_CIBLE', 'proba_c0', 'proba_c1', 'index_origin']\n",
    "\n",
    "df_test_res = pd.concat((df_test1[cols], df_test0[cols]), axis=0, ignore_index=True)\n",
    "\n",
    "roc_au = roc_auc_score(df_test_res.VARIABLE_CIBLE.values, df_test_res.proba_c1.values)\n",
    "print('total test score: ', roc_au)"
   ]
  },
  {
   "cell_type": "markdown",
   "metadata": {},
   "source": [
    "#### résultats eval set"
   ]
  },
  {
   "cell_type": "code",
   "execution_count": 9,
   "metadata": {
    "collapsed": false
   },
   "outputs": [
    {
     "data": {
      "text/html": [
       "<div>\n",
       "<table border=\"1\" class=\"dataframe\">\n",
       "  <thead>\n",
       "    <tr style=\"text-align: right;\">\n",
       "      <th></th>\n",
       "      <th>proba_c0</th>\n",
       "      <th>proba_c1</th>\n",
       "      <th>index_origin</th>\n",
       "    </tr>\n",
       "  </thead>\n",
       "  <tbody>\n",
       "    <tr>\n",
       "      <th>0</th>\n",
       "      <td>0.403077</td>\n",
       "      <td>0.596923</td>\n",
       "      <td>1</td>\n",
       "    </tr>\n",
       "    <tr>\n",
       "      <th>1</th>\n",
       "      <td>0.766923</td>\n",
       "      <td>0.233077</td>\n",
       "      <td>2</td>\n",
       "    </tr>\n",
       "    <tr>\n",
       "      <th>2</th>\n",
       "      <td>0.186923</td>\n",
       "      <td>0.813077</td>\n",
       "      <td>3</td>\n",
       "    </tr>\n",
       "    <tr>\n",
       "      <th>3</th>\n",
       "      <td>0.550980</td>\n",
       "      <td>0.449020</td>\n",
       "      <td>4</td>\n",
       "    </tr>\n",
       "    <tr>\n",
       "      <th>4</th>\n",
       "      <td>0.785385</td>\n",
       "      <td>0.214615</td>\n",
       "      <td>7</td>\n",
       "    </tr>\n",
       "  </tbody>\n",
       "</table>\n",
       "</div>"
      ],
      "text/plain": [
       "   proba_c0  proba_c1  index_origin\n",
       "0  0.403077  0.596923             1\n",
       "1  0.766923  0.233077             2\n",
       "2  0.186923  0.813077             3\n",
       "3  0.550980  0.449020             4\n",
       "4  0.785385  0.214615             7"
      ]
     },
     "execution_count": 9,
     "metadata": {},
     "output_type": "execute_result"
    }
   ],
   "source": [
    "eval0_proba = clf0.predict_proba(df0_eval[features0].values)\n",
    "eval1_proba = clf1.predict_proba(df1_eval[features1].values)\n",
    "\n",
    "df0_eval['proba_c0'] = eval0_proba[:,0] \n",
    "df0_eval['proba_c1'] = eval0_proba[:,1] \n",
    "\n",
    "df1_eval['proba_c0'] = eval1_proba[:,0] \n",
    "df1_eval['proba_c1'] = eval1_proba[:,1] \n",
    "\n",
    "cols = ['proba_c0', 'proba_c1', 'index_origin']\n",
    "\n",
    "df_eval_res = pd.concat((df0_eval[cols], df1_eval[cols]), axis=0, ignore_index=True)\n"
   ]
  },
  {
   "cell_type": "code",
   "execution_count": 10,
   "metadata": {
    "collapsed": false
   },
   "outputs": [
    {
     "name": "stderr",
     "output_type": "stream",
     "text": [
      "/home/maxime/local/anaconda3/lib/python3.4/site-packages/ipykernel/__main__.py:1: FutureWarning: by argument to sort_index is deprecated, pls use .sort_values(by=...)\n",
      "  if __name__ == '__main__':\n"
     ]
    },
    {
     "data": {
      "text/html": [
       "<div>\n",
       "<table border=\"1\" class=\"dataframe\">\n",
       "  <thead>\n",
       "    <tr style=\"text-align: right;\">\n",
       "      <th></th>\n",
       "      <th>proba_c0</th>\n",
       "      <th>proba_c1</th>\n",
       "      <th>index_origin</th>\n",
       "    </tr>\n",
       "  </thead>\n",
       "  <tbody>\n",
       "    <tr>\n",
       "      <th>84092</th>\n",
       "      <td>0.440569</td>\n",
       "      <td>0.559431</td>\n",
       "      <td>0</td>\n",
       "    </tr>\n",
       "    <tr>\n",
       "      <th>0</th>\n",
       "      <td>0.403077</td>\n",
       "      <td>0.596923</td>\n",
       "      <td>1</td>\n",
       "    </tr>\n",
       "    <tr>\n",
       "      <th>1</th>\n",
       "      <td>0.766923</td>\n",
       "      <td>0.233077</td>\n",
       "      <td>2</td>\n",
       "    </tr>\n",
       "    <tr>\n",
       "      <th>2</th>\n",
       "      <td>0.186923</td>\n",
       "      <td>0.813077</td>\n",
       "      <td>3</td>\n",
       "    </tr>\n",
       "    <tr>\n",
       "      <th>3</th>\n",
       "      <td>0.550980</td>\n",
       "      <td>0.449020</td>\n",
       "      <td>4</td>\n",
       "    </tr>\n",
       "  </tbody>\n",
       "</table>\n",
       "</div>"
      ],
      "text/plain": [
       "       proba_c0  proba_c1  index_origin\n",
       "84092  0.440569  0.559431             0\n",
       "0      0.403077  0.596923             1\n",
       "1      0.766923  0.233077             2\n",
       "2      0.186923  0.813077             3\n",
       "3      0.550980  0.449020             4"
      ]
     },
     "execution_count": 10,
     "metadata": {},
     "output_type": "execute_result"
    }
   ],
   "source": [
    "df_eval_res = df_eval_res.sort_index(by='index_origin', ascending=True)"
   ]
  },
  {
   "cell_type": "code",
   "execution_count": 13,
   "metadata": {
    "collapsed": false
   },
   "outputs": [],
   "source": [
    "\n",
    "np.savetxt('y_pred1.txt', df_eval_res['proba_c0'].values, fmt='%s')"
   ]
  },
  {
   "cell_type": "markdown",
   "metadata": {},
   "source": [
    "Après soumission du résultat en ligne : score 0.6973"
   ]
  },
  {
   "cell_type": "markdown",
   "metadata": {},
   "source": []
  }
 ],
 "metadata": {
  "kernelspec": {
   "display_name": "Python 3",
   "language": "python",
   "name": "python3"
  },
  "language_info": {
   "codemirror_mode": {
    "name": "ipython",
    "version": 3
   },
   "file_extension": ".py",
   "mimetype": "text/x-python",
   "name": "python",
   "nbconvert_exporter": "python",
   "pygments_lexer": "ipython3",
   "version": "3.4.3"
  }
 },
 "nbformat": 4,
 "nbformat_minor": 0
}
